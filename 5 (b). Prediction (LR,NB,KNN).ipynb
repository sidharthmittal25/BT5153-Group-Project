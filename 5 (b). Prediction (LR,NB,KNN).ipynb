{
 "cells": [
  {
   "cell_type": "code",
   "execution_count": 1,
   "metadata": {},
   "outputs": [
    {
     "data": {
      "text/html": [
       "<style>.container { width:98% !important; }</style>"
      ],
      "text/plain": [
       "<IPython.core.display.HTML object>"
      ]
     },
     "metadata": {},
     "output_type": "display_data"
    }
   ],
   "source": [
    "# Widen width of notebook\n",
    "from IPython.core.display import display, HTML\n",
    "display(HTML(\"<style>.container { width:98% !important; }</style>\"))\n",
    "\n",
    "from datetime import timedelta\n",
    "from scipy.sparse import csr_matrix\n",
    "import pandas as pd\n",
    "import numpy as np\n",
    "import matplotlib.pyplot as plt\n",
    "import seaborn as sns\n",
    "%matplotlib inline\n",
    "pd.set_option('display.max_columns', None)\n",
    "# train = pd.read_csv('train_features.csv')\n",
    "# test= pd.read_csv('test_features.csv')\n",
    "data1=pd.read_csv('df_continent_3.csv')\n",
    "data2=pd.read_csv('df_country_3.csv')"
   ]
  },
  {
   "cell_type": "code",
   "execution_count": 2,
   "metadata": {},
   "outputs": [],
   "source": [
    "data1.drop(columns=['POSTED_DATE'],inplace=True)\n",
    "data2.drop(columns=['POSTED_DATE'],inplace=True)"
   ]
  },
  {
   "cell_type": "code",
   "execution_count": 3,
   "metadata": {},
   "outputs": [
    {
     "data": {
      "text/html": [
       "<div>\n",
       "<style scoped>\n",
       "    .dataframe tbody tr th:only-of-type {\n",
       "        vertical-align: middle;\n",
       "    }\n",
       "\n",
       "    .dataframe tbody tr th {\n",
       "        vertical-align: top;\n",
       "    }\n",
       "\n",
       "    .dataframe thead th {\n",
       "        text-align: right;\n",
       "    }\n",
       "</style>\n",
       "<table border=\"1\" class=\"dataframe\">\n",
       "  <thead>\n",
       "    <tr style=\"text-align: right;\">\n",
       "      <th></th>\n",
       "      <th>LOAN_AMOUNT</th>\n",
       "      <th>STATUS</th>\n",
       "      <th>LENDER_TERM</th>\n",
       "      <th>NUM_LENDERS_TOTAL</th>\n",
       "      <th>NUM_JOURNAL_ENTRIES</th>\n",
       "      <th>BORROWER_PICTURED</th>\n",
       "      <th>LEN_DESCRIPTION</th>\n",
       "      <th>LEN_TAGS</th>\n",
       "      <th>Agriculture</th>\n",
       "      <th>Arts</th>\n",
       "      <th>Clothing</th>\n",
       "      <th>Construction</th>\n",
       "      <th>Education</th>\n",
       "      <th>Entertainment</th>\n",
       "      <th>Food</th>\n",
       "      <th>Health</th>\n",
       "      <th>Housing</th>\n",
       "      <th>Manufacturing</th>\n",
       "      <th>Personal Use</th>\n",
       "      <th>Retail</th>\n",
       "      <th>Services</th>\n",
       "      <th>Transportation</th>\n",
       "      <th>Wholesale</th>\n",
       "      <th>DAYS_TO_EXPIRE</th>\n",
       "      <th>MALE_BORROWERS</th>\n",
       "      <th>FEMALE_BORROWERS</th>\n",
       "      <th>partner_rating</th>\n",
       "      <th>time_on_kiva</th>\n",
       "      <th>total_loans</th>\n",
       "      <th>are_interest_fees_charged</th>\n",
       "      <th>avg_cost_to_borrower</th>\n",
       "      <th>profitability_ROA</th>\n",
       "      <th>avg_loan_size</th>\n",
       "      <th>delinquency_rate</th>\n",
       "      <th>loans_at_risk_rate</th>\n",
       "      <th>default_rate</th>\n",
       "      <th>emo_score</th>\n",
       "      <th>Africa</th>\n",
       "      <th>Asia</th>\n",
       "      <th>North America</th>\n",
       "      <th>Europe</th>\n",
       "      <th>South America</th>\n",
       "      <th>Oceania</th>\n",
       "    </tr>\n",
       "  </thead>\n",
       "  <tbody>\n",
       "    <tr>\n",
       "      <th>0</th>\n",
       "      <td>1100.0</td>\n",
       "      <td>1</td>\n",
       "      <td>14.0</td>\n",
       "      <td>4</td>\n",
       "      <td>1</td>\n",
       "      <td>1</td>\n",
       "      <td>617</td>\n",
       "      <td>8</td>\n",
       "      <td>0</td>\n",
       "      <td>0</td>\n",
       "      <td>0</td>\n",
       "      <td>0</td>\n",
       "      <td>0</td>\n",
       "      <td>0</td>\n",
       "      <td>0</td>\n",
       "      <td>0</td>\n",
       "      <td>1</td>\n",
       "      <td>0</td>\n",
       "      <td>0</td>\n",
       "      <td>0</td>\n",
       "      <td>0</td>\n",
       "      <td>0</td>\n",
       "      <td>0</td>\n",
       "      <td>31.0</td>\n",
       "      <td>1</td>\n",
       "      <td>0</td>\n",
       "      <td>2.5</td>\n",
       "      <td>131.0</td>\n",
       "      <td>15029975.0</td>\n",
       "      <td>1</td>\n",
       "      <td>47.0</td>\n",
       "      <td>1.0</td>\n",
       "      <td>66.7</td>\n",
       "      <td>31.72</td>\n",
       "      <td>45.79</td>\n",
       "      <td>0.61</td>\n",
       "      <td>0.7845</td>\n",
       "      <td>1</td>\n",
       "      <td>0</td>\n",
       "      <td>0</td>\n",
       "      <td>0</td>\n",
       "      <td>0</td>\n",
       "      <td>0</td>\n",
       "    </tr>\n",
       "    <tr>\n",
       "      <th>1</th>\n",
       "      <td>500.0</td>\n",
       "      <td>1</td>\n",
       "      <td>14.0</td>\n",
       "      <td>4</td>\n",
       "      <td>1</td>\n",
       "      <td>1</td>\n",
       "      <td>334</td>\n",
       "      <td>5</td>\n",
       "      <td>0</td>\n",
       "      <td>0</td>\n",
       "      <td>1</td>\n",
       "      <td>0</td>\n",
       "      <td>0</td>\n",
       "      <td>0</td>\n",
       "      <td>0</td>\n",
       "      <td>0</td>\n",
       "      <td>0</td>\n",
       "      <td>0</td>\n",
       "      <td>0</td>\n",
       "      <td>0</td>\n",
       "      <td>0</td>\n",
       "      <td>0</td>\n",
       "      <td>0</td>\n",
       "      <td>32.0</td>\n",
       "      <td>0</td>\n",
       "      <td>1</td>\n",
       "      <td>2.0</td>\n",
       "      <td>140.0</td>\n",
       "      <td>15969225.0</td>\n",
       "      <td>1</td>\n",
       "      <td>36.0</td>\n",
       "      <td>4.0</td>\n",
       "      <td>34.9</td>\n",
       "      <td>8.28</td>\n",
       "      <td>10.96</td>\n",
       "      <td>2.78</td>\n",
       "      <td>0.9423</td>\n",
       "      <td>1</td>\n",
       "      <td>0</td>\n",
       "      <td>0</td>\n",
       "      <td>0</td>\n",
       "      <td>0</td>\n",
       "      <td>0</td>\n",
       "    </tr>\n",
       "    <tr>\n",
       "      <th>2</th>\n",
       "      <td>550.0</td>\n",
       "      <td>1</td>\n",
       "      <td>14.0</td>\n",
       "      <td>1</td>\n",
       "      <td>1</td>\n",
       "      <td>1</td>\n",
       "      <td>592</td>\n",
       "      <td>6</td>\n",
       "      <td>0</td>\n",
       "      <td>0</td>\n",
       "      <td>0</td>\n",
       "      <td>0</td>\n",
       "      <td>0</td>\n",
       "      <td>0</td>\n",
       "      <td>0</td>\n",
       "      <td>0</td>\n",
       "      <td>0</td>\n",
       "      <td>0</td>\n",
       "      <td>0</td>\n",
       "      <td>1</td>\n",
       "      <td>0</td>\n",
       "      <td>0</td>\n",
       "      <td>0</td>\n",
       "      <td>32.0</td>\n",
       "      <td>1</td>\n",
       "      <td>0</td>\n",
       "      <td>3.0</td>\n",
       "      <td>105.0</td>\n",
       "      <td>11134150.0</td>\n",
       "      <td>1</td>\n",
       "      <td>51.0</td>\n",
       "      <td>1.6</td>\n",
       "      <td>162.0</td>\n",
       "      <td>31.43</td>\n",
       "      <td>48.43</td>\n",
       "      <td>0.70</td>\n",
       "      <td>0.9559</td>\n",
       "      <td>1</td>\n",
       "      <td>0</td>\n",
       "      <td>0</td>\n",
       "      <td>0</td>\n",
       "      <td>0</td>\n",
       "      <td>0</td>\n",
       "    </tr>\n",
       "    <tr>\n",
       "      <th>3</th>\n",
       "      <td>550.0</td>\n",
       "      <td>1</td>\n",
       "      <td>12.0</td>\n",
       "      <td>4</td>\n",
       "      <td>1</td>\n",
       "      <td>1</td>\n",
       "      <td>651</td>\n",
       "      <td>6</td>\n",
       "      <td>0</td>\n",
       "      <td>0</td>\n",
       "      <td>0</td>\n",
       "      <td>0</td>\n",
       "      <td>0</td>\n",
       "      <td>0</td>\n",
       "      <td>0</td>\n",
       "      <td>0</td>\n",
       "      <td>0</td>\n",
       "      <td>0</td>\n",
       "      <td>0</td>\n",
       "      <td>0</td>\n",
       "      <td>0</td>\n",
       "      <td>1</td>\n",
       "      <td>0</td>\n",
       "      <td>30.0</td>\n",
       "      <td>1</td>\n",
       "      <td>0</td>\n",
       "      <td>3.0</td>\n",
       "      <td>105.0</td>\n",
       "      <td>11134150.0</td>\n",
       "      <td>1</td>\n",
       "      <td>51.0</td>\n",
       "      <td>1.6</td>\n",
       "      <td>162.0</td>\n",
       "      <td>31.43</td>\n",
       "      <td>48.43</td>\n",
       "      <td>0.70</td>\n",
       "      <td>0.9571</td>\n",
       "      <td>1</td>\n",
       "      <td>0</td>\n",
       "      <td>0</td>\n",
       "      <td>0</td>\n",
       "      <td>0</td>\n",
       "      <td>0</td>\n",
       "    </tr>\n",
       "    <tr>\n",
       "      <th>4</th>\n",
       "      <td>600.0</td>\n",
       "      <td>1</td>\n",
       "      <td>20.0</td>\n",
       "      <td>18</td>\n",
       "      <td>1</td>\n",
       "      <td>1</td>\n",
       "      <td>466</td>\n",
       "      <td>6</td>\n",
       "      <td>0</td>\n",
       "      <td>0</td>\n",
       "      <td>0</td>\n",
       "      <td>0</td>\n",
       "      <td>0</td>\n",
       "      <td>0</td>\n",
       "      <td>0</td>\n",
       "      <td>0</td>\n",
       "      <td>0</td>\n",
       "      <td>0</td>\n",
       "      <td>0</td>\n",
       "      <td>1</td>\n",
       "      <td>0</td>\n",
       "      <td>0</td>\n",
       "      <td>0</td>\n",
       "      <td>38.0</td>\n",
       "      <td>0</td>\n",
       "      <td>1</td>\n",
       "      <td>4.5</td>\n",
       "      <td>113.0</td>\n",
       "      <td>24611150.0</td>\n",
       "      <td>1</td>\n",
       "      <td>29.0</td>\n",
       "      <td>3.4</td>\n",
       "      <td>37.6</td>\n",
       "      <td>5.97</td>\n",
       "      <td>8.59</td>\n",
       "      <td>1.25</td>\n",
       "      <td>0.9246</td>\n",
       "      <td>0</td>\n",
       "      <td>0</td>\n",
       "      <td>1</td>\n",
       "      <td>0</td>\n",
       "      <td>0</td>\n",
       "      <td>0</td>\n",
       "    </tr>\n",
       "  </tbody>\n",
       "</table>\n",
       "</div>"
      ],
      "text/plain": [
       "   LOAN_AMOUNT  STATUS  LENDER_TERM  NUM_LENDERS_TOTAL  NUM_JOURNAL_ENTRIES  \\\n",
       "0       1100.0       1         14.0                  4                    1   \n",
       "1        500.0       1         14.0                  4                    1   \n",
       "2        550.0       1         14.0                  1                    1   \n",
       "3        550.0       1         12.0                  4                    1   \n",
       "4        600.0       1         20.0                 18                    1   \n",
       "\n",
       "   BORROWER_PICTURED  LEN_DESCRIPTION  LEN_TAGS  Agriculture  Arts  Clothing  \\\n",
       "0                  1              617         8            0     0         0   \n",
       "1                  1              334         5            0     0         1   \n",
       "2                  1              592         6            0     0         0   \n",
       "3                  1              651         6            0     0         0   \n",
       "4                  1              466         6            0     0         0   \n",
       "\n",
       "   Construction  Education  Entertainment  Food  Health  Housing  \\\n",
       "0             0          0              0     0       0        1   \n",
       "1             0          0              0     0       0        0   \n",
       "2             0          0              0     0       0        0   \n",
       "3             0          0              0     0       0        0   \n",
       "4             0          0              0     0       0        0   \n",
       "\n",
       "   Manufacturing  Personal Use  Retail  Services  Transportation  Wholesale  \\\n",
       "0              0             0       0         0               0          0   \n",
       "1              0             0       0         0               0          0   \n",
       "2              0             0       1         0               0          0   \n",
       "3              0             0       0         0               1          0   \n",
       "4              0             0       1         0               0          0   \n",
       "\n",
       "   DAYS_TO_EXPIRE  MALE_BORROWERS  FEMALE_BORROWERS  partner_rating  \\\n",
       "0            31.0               1                 0             2.5   \n",
       "1            32.0               0                 1             2.0   \n",
       "2            32.0               1                 0             3.0   \n",
       "3            30.0               1                 0             3.0   \n",
       "4            38.0               0                 1             4.5   \n",
       "\n",
       "   time_on_kiva  total_loans  are_interest_fees_charged  avg_cost_to_borrower  \\\n",
       "0         131.0   15029975.0                          1                  47.0   \n",
       "1         140.0   15969225.0                          1                  36.0   \n",
       "2         105.0   11134150.0                          1                  51.0   \n",
       "3         105.0   11134150.0                          1                  51.0   \n",
       "4         113.0   24611150.0                          1                  29.0   \n",
       "\n",
       "   profitability_ROA  avg_loan_size  delinquency_rate  loans_at_risk_rate  \\\n",
       "0                1.0           66.7             31.72               45.79   \n",
       "1                4.0           34.9              8.28               10.96   \n",
       "2                1.6          162.0             31.43               48.43   \n",
       "3                1.6          162.0             31.43               48.43   \n",
       "4                3.4           37.6              5.97                8.59   \n",
       "\n",
       "   default_rate  emo_score  Africa  Asia  North America  Europe  \\\n",
       "0          0.61     0.7845       1     0              0       0   \n",
       "1          2.78     0.9423       1     0              0       0   \n",
       "2          0.70     0.9559       1     0              0       0   \n",
       "3          0.70     0.9571       1     0              0       0   \n",
       "4          1.25     0.9246       0     0              1       0   \n",
       "\n",
       "   South America  Oceania  \n",
       "0              0        0  \n",
       "1              0        0  \n",
       "2              0        0  \n",
       "3              0        0  \n",
       "4              0        0  "
      ]
     },
     "execution_count": 3,
     "metadata": {},
     "output_type": "execute_result"
    }
   ],
   "source": [
    "data1.head()"
   ]
  },
  {
   "cell_type": "code",
   "execution_count": 4,
   "metadata": {},
   "outputs": [
    {
     "data": {
      "text/html": [
       "<div>\n",
       "<style scoped>\n",
       "    .dataframe tbody tr th:only-of-type {\n",
       "        vertical-align: middle;\n",
       "    }\n",
       "\n",
       "    .dataframe tbody tr th {\n",
       "        vertical-align: top;\n",
       "    }\n",
       "\n",
       "    .dataframe thead th {\n",
       "        text-align: right;\n",
       "    }\n",
       "</style>\n",
       "<table border=\"1\" class=\"dataframe\">\n",
       "  <thead>\n",
       "    <tr style=\"text-align: right;\">\n",
       "      <th></th>\n",
       "      <th>LOAN_AMOUNT</th>\n",
       "      <th>STATUS</th>\n",
       "      <th>LENDER_TERM</th>\n",
       "      <th>NUM_LENDERS_TOTAL</th>\n",
       "      <th>NUM_JOURNAL_ENTRIES</th>\n",
       "      <th>BORROWER_PICTURED</th>\n",
       "      <th>LEN_DESCRIPTION</th>\n",
       "      <th>LEN_TAGS</th>\n",
       "      <th>Agriculture</th>\n",
       "      <th>Arts</th>\n",
       "      <th>Clothing</th>\n",
       "      <th>Construction</th>\n",
       "      <th>Education</th>\n",
       "      <th>Entertainment</th>\n",
       "      <th>Food</th>\n",
       "      <th>Health</th>\n",
       "      <th>Housing</th>\n",
       "      <th>Manufacturing</th>\n",
       "      <th>Personal Use</th>\n",
       "      <th>Retail</th>\n",
       "      <th>Services</th>\n",
       "      <th>Transportation</th>\n",
       "      <th>Wholesale</th>\n",
       "      <th>Albania</th>\n",
       "      <th>Armenia</th>\n",
       "      <th>Bangladesh</th>\n",
       "      <th>Bolivia</th>\n",
       "      <th>Brazil</th>\n",
       "      <th>Burkina Faso</th>\n",
       "      <th>Cambodia</th>\n",
       "      <th>Cameroon</th>\n",
       "      <th>Colombia</th>\n",
       "      <th>Congo</th>\n",
       "      <th>Costa Rica</th>\n",
       "      <th>Dominican Republic</th>\n",
       "      <th>Ecuador</th>\n",
       "      <th>Egypt</th>\n",
       "      <th>El Salvador</th>\n",
       "      <th>Fiji</th>\n",
       "      <th>Georgia</th>\n",
       "      <th>Ghana</th>\n",
       "      <th>Guatemala</th>\n",
       "      <th>Haiti</th>\n",
       "      <th>Honduras</th>\n",
       "      <th>India</th>\n",
       "      <th>Indonesia</th>\n",
       "      <th>Israel</th>\n",
       "      <th>Jordan</th>\n",
       "      <th>Kenya</th>\n",
       "      <th>Kosovo</th>\n",
       "      <th>Kyrgyzstan</th>\n",
       "      <th>Lebanon</th>\n",
       "      <th>Lesotho</th>\n",
       "      <th>Liberia</th>\n",
       "      <th>Madagascar</th>\n",
       "      <th>Malawi</th>\n",
       "      <th>Mali</th>\n",
       "      <th>Mexico</th>\n",
       "      <th>Moldova</th>\n",
       "      <th>Mozambique</th>\n",
       "      <th>Namibia</th>\n",
       "      <th>Nepal</th>\n",
       "      <th>Nicaragua</th>\n",
       "      <th>Nigeria</th>\n",
       "      <th>Pakistan</th>\n",
       "      <th>Palestine</th>\n",
       "      <th>Panama</th>\n",
       "      <th>Papua New Guinea</th>\n",
       "      <th>Paraguay</th>\n",
       "      <th>Peru</th>\n",
       "      <th>Philippines</th>\n",
       "      <th>Puerto Rico</th>\n",
       "      <th>Rwanda</th>\n",
       "      <th>Samoa</th>\n",
       "      <th>Senegal</th>\n",
       "      <th>Sierra Leone</th>\n",
       "      <th>Solomon Islands</th>\n",
       "      <th>Tajikistan</th>\n",
       "      <th>Tanzania</th>\n",
       "      <th>Thailand</th>\n",
       "      <th>The Democratic Republic of the Congo</th>\n",
       "      <th>Timor-Leste</th>\n",
       "      <th>Togo</th>\n",
       "      <th>Tonga</th>\n",
       "      <th>Turkey</th>\n",
       "      <th>Uganda</th>\n",
       "      <th>United States</th>\n",
       "      <th>Vietnam</th>\n",
       "      <th>Zambia</th>\n",
       "      <th>Zimbabwe</th>\n",
       "      <th>DAYS_TO_EXPIRE</th>\n",
       "      <th>MALE_BORROWERS</th>\n",
       "      <th>FEMALE_BORROWERS</th>\n",
       "      <th>partner_rating</th>\n",
       "      <th>time_on_kiva</th>\n",
       "      <th>total_loans</th>\n",
       "      <th>are_interest_fees_charged</th>\n",
       "      <th>avg_cost_to_borrower</th>\n",
       "      <th>profitability_ROA</th>\n",
       "      <th>avg_loan_size</th>\n",
       "      <th>delinquency_rate</th>\n",
       "      <th>loans_at_risk_rate</th>\n",
       "      <th>default_rate</th>\n",
       "      <th>emo_score</th>\n",
       "    </tr>\n",
       "  </thead>\n",
       "  <tbody>\n",
       "    <tr>\n",
       "      <th>0</th>\n",
       "      <td>1100.0</td>\n",
       "      <td>1</td>\n",
       "      <td>14.0</td>\n",
       "      <td>4</td>\n",
       "      <td>1</td>\n",
       "      <td>1</td>\n",
       "      <td>617</td>\n",
       "      <td>8</td>\n",
       "      <td>0</td>\n",
       "      <td>0</td>\n",
       "      <td>0</td>\n",
       "      <td>0</td>\n",
       "      <td>0</td>\n",
       "      <td>0</td>\n",
       "      <td>0</td>\n",
       "      <td>0</td>\n",
       "      <td>1</td>\n",
       "      <td>0</td>\n",
       "      <td>0</td>\n",
       "      <td>0</td>\n",
       "      <td>0</td>\n",
       "      <td>0</td>\n",
       "      <td>0</td>\n",
       "      <td>0</td>\n",
       "      <td>0</td>\n",
       "      <td>0</td>\n",
       "      <td>0</td>\n",
       "      <td>0</td>\n",
       "      <td>0</td>\n",
       "      <td>0</td>\n",
       "      <td>0</td>\n",
       "      <td>0</td>\n",
       "      <td>0</td>\n",
       "      <td>0</td>\n",
       "      <td>0</td>\n",
       "      <td>0</td>\n",
       "      <td>0</td>\n",
       "      <td>0</td>\n",
       "      <td>0</td>\n",
       "      <td>0</td>\n",
       "      <td>0</td>\n",
       "      <td>0</td>\n",
       "      <td>0</td>\n",
       "      <td>0</td>\n",
       "      <td>0</td>\n",
       "      <td>0</td>\n",
       "      <td>0</td>\n",
       "      <td>0</td>\n",
       "      <td>0</td>\n",
       "      <td>0</td>\n",
       "      <td>0</td>\n",
       "      <td>0</td>\n",
       "      <td>0</td>\n",
       "      <td>0</td>\n",
       "      <td>0</td>\n",
       "      <td>0</td>\n",
       "      <td>0</td>\n",
       "      <td>0</td>\n",
       "      <td>0</td>\n",
       "      <td>0</td>\n",
       "      <td>0</td>\n",
       "      <td>0</td>\n",
       "      <td>0</td>\n",
       "      <td>0</td>\n",
       "      <td>0</td>\n",
       "      <td>0</td>\n",
       "      <td>0</td>\n",
       "      <td>0</td>\n",
       "      <td>0</td>\n",
       "      <td>0</td>\n",
       "      <td>0</td>\n",
       "      <td>0</td>\n",
       "      <td>0</td>\n",
       "      <td>0</td>\n",
       "      <td>0</td>\n",
       "      <td>0</td>\n",
       "      <td>0</td>\n",
       "      <td>0</td>\n",
       "      <td>0</td>\n",
       "      <td>0</td>\n",
       "      <td>0</td>\n",
       "      <td>0</td>\n",
       "      <td>0</td>\n",
       "      <td>0</td>\n",
       "      <td>0</td>\n",
       "      <td>1</td>\n",
       "      <td>0</td>\n",
       "      <td>0</td>\n",
       "      <td>0</td>\n",
       "      <td>0</td>\n",
       "      <td>31.0</td>\n",
       "      <td>1</td>\n",
       "      <td>0</td>\n",
       "      <td>2.5</td>\n",
       "      <td>131.0</td>\n",
       "      <td>15029975.0</td>\n",
       "      <td>1</td>\n",
       "      <td>47.0</td>\n",
       "      <td>1.0</td>\n",
       "      <td>66.7</td>\n",
       "      <td>31.72</td>\n",
       "      <td>45.79</td>\n",
       "      <td>0.61</td>\n",
       "      <td>0.7845</td>\n",
       "    </tr>\n",
       "    <tr>\n",
       "      <th>1</th>\n",
       "      <td>500.0</td>\n",
       "      <td>1</td>\n",
       "      <td>14.0</td>\n",
       "      <td>4</td>\n",
       "      <td>1</td>\n",
       "      <td>1</td>\n",
       "      <td>334</td>\n",
       "      <td>5</td>\n",
       "      <td>0</td>\n",
       "      <td>0</td>\n",
       "      <td>1</td>\n",
       "      <td>0</td>\n",
       "      <td>0</td>\n",
       "      <td>0</td>\n",
       "      <td>0</td>\n",
       "      <td>0</td>\n",
       "      <td>0</td>\n",
       "      <td>0</td>\n",
       "      <td>0</td>\n",
       "      <td>0</td>\n",
       "      <td>0</td>\n",
       "      <td>0</td>\n",
       "      <td>0</td>\n",
       "      <td>0</td>\n",
       "      <td>0</td>\n",
       "      <td>0</td>\n",
       "      <td>0</td>\n",
       "      <td>0</td>\n",
       "      <td>0</td>\n",
       "      <td>0</td>\n",
       "      <td>0</td>\n",
       "      <td>0</td>\n",
       "      <td>0</td>\n",
       "      <td>0</td>\n",
       "      <td>0</td>\n",
       "      <td>0</td>\n",
       "      <td>0</td>\n",
       "      <td>0</td>\n",
       "      <td>0</td>\n",
       "      <td>0</td>\n",
       "      <td>0</td>\n",
       "      <td>0</td>\n",
       "      <td>0</td>\n",
       "      <td>0</td>\n",
       "      <td>0</td>\n",
       "      <td>0</td>\n",
       "      <td>0</td>\n",
       "      <td>0</td>\n",
       "      <td>1</td>\n",
       "      <td>0</td>\n",
       "      <td>0</td>\n",
       "      <td>0</td>\n",
       "      <td>0</td>\n",
       "      <td>0</td>\n",
       "      <td>0</td>\n",
       "      <td>0</td>\n",
       "      <td>0</td>\n",
       "      <td>0</td>\n",
       "      <td>0</td>\n",
       "      <td>0</td>\n",
       "      <td>0</td>\n",
       "      <td>0</td>\n",
       "      <td>0</td>\n",
       "      <td>0</td>\n",
       "      <td>0</td>\n",
       "      <td>0</td>\n",
       "      <td>0</td>\n",
       "      <td>0</td>\n",
       "      <td>0</td>\n",
       "      <td>0</td>\n",
       "      <td>0</td>\n",
       "      <td>0</td>\n",
       "      <td>0</td>\n",
       "      <td>0</td>\n",
       "      <td>0</td>\n",
       "      <td>0</td>\n",
       "      <td>0</td>\n",
       "      <td>0</td>\n",
       "      <td>0</td>\n",
       "      <td>0</td>\n",
       "      <td>0</td>\n",
       "      <td>0</td>\n",
       "      <td>0</td>\n",
       "      <td>0</td>\n",
       "      <td>0</td>\n",
       "      <td>0</td>\n",
       "      <td>0</td>\n",
       "      <td>0</td>\n",
       "      <td>0</td>\n",
       "      <td>0</td>\n",
       "      <td>32.0</td>\n",
       "      <td>0</td>\n",
       "      <td>1</td>\n",
       "      <td>2.0</td>\n",
       "      <td>140.0</td>\n",
       "      <td>15969225.0</td>\n",
       "      <td>1</td>\n",
       "      <td>36.0</td>\n",
       "      <td>4.0</td>\n",
       "      <td>34.9</td>\n",
       "      <td>8.28</td>\n",
       "      <td>10.96</td>\n",
       "      <td>2.78</td>\n",
       "      <td>0.9423</td>\n",
       "    </tr>\n",
       "    <tr>\n",
       "      <th>2</th>\n",
       "      <td>550.0</td>\n",
       "      <td>1</td>\n",
       "      <td>14.0</td>\n",
       "      <td>1</td>\n",
       "      <td>1</td>\n",
       "      <td>1</td>\n",
       "      <td>592</td>\n",
       "      <td>6</td>\n",
       "      <td>0</td>\n",
       "      <td>0</td>\n",
       "      <td>0</td>\n",
       "      <td>0</td>\n",
       "      <td>0</td>\n",
       "      <td>0</td>\n",
       "      <td>0</td>\n",
       "      <td>0</td>\n",
       "      <td>0</td>\n",
       "      <td>0</td>\n",
       "      <td>0</td>\n",
       "      <td>1</td>\n",
       "      <td>0</td>\n",
       "      <td>0</td>\n",
       "      <td>0</td>\n",
       "      <td>0</td>\n",
       "      <td>0</td>\n",
       "      <td>0</td>\n",
       "      <td>0</td>\n",
       "      <td>0</td>\n",
       "      <td>0</td>\n",
       "      <td>0</td>\n",
       "      <td>0</td>\n",
       "      <td>0</td>\n",
       "      <td>0</td>\n",
       "      <td>0</td>\n",
       "      <td>0</td>\n",
       "      <td>0</td>\n",
       "      <td>0</td>\n",
       "      <td>0</td>\n",
       "      <td>0</td>\n",
       "      <td>0</td>\n",
       "      <td>0</td>\n",
       "      <td>0</td>\n",
       "      <td>0</td>\n",
       "      <td>0</td>\n",
       "      <td>0</td>\n",
       "      <td>0</td>\n",
       "      <td>0</td>\n",
       "      <td>0</td>\n",
       "      <td>0</td>\n",
       "      <td>0</td>\n",
       "      <td>0</td>\n",
       "      <td>0</td>\n",
       "      <td>0</td>\n",
       "      <td>0</td>\n",
       "      <td>0</td>\n",
       "      <td>0</td>\n",
       "      <td>0</td>\n",
       "      <td>0</td>\n",
       "      <td>0</td>\n",
       "      <td>0</td>\n",
       "      <td>0</td>\n",
       "      <td>0</td>\n",
       "      <td>0</td>\n",
       "      <td>0</td>\n",
       "      <td>0</td>\n",
       "      <td>0</td>\n",
       "      <td>0</td>\n",
       "      <td>0</td>\n",
       "      <td>0</td>\n",
       "      <td>0</td>\n",
       "      <td>0</td>\n",
       "      <td>0</td>\n",
       "      <td>0</td>\n",
       "      <td>0</td>\n",
       "      <td>0</td>\n",
       "      <td>0</td>\n",
       "      <td>0</td>\n",
       "      <td>0</td>\n",
       "      <td>0</td>\n",
       "      <td>0</td>\n",
       "      <td>0</td>\n",
       "      <td>0</td>\n",
       "      <td>0</td>\n",
       "      <td>0</td>\n",
       "      <td>0</td>\n",
       "      <td>1</td>\n",
       "      <td>0</td>\n",
       "      <td>0</td>\n",
       "      <td>0</td>\n",
       "      <td>0</td>\n",
       "      <td>32.0</td>\n",
       "      <td>1</td>\n",
       "      <td>0</td>\n",
       "      <td>3.0</td>\n",
       "      <td>105.0</td>\n",
       "      <td>11134150.0</td>\n",
       "      <td>1</td>\n",
       "      <td>51.0</td>\n",
       "      <td>1.6</td>\n",
       "      <td>162.0</td>\n",
       "      <td>31.43</td>\n",
       "      <td>48.43</td>\n",
       "      <td>0.70</td>\n",
       "      <td>0.9559</td>\n",
       "    </tr>\n",
       "    <tr>\n",
       "      <th>3</th>\n",
       "      <td>550.0</td>\n",
       "      <td>1</td>\n",
       "      <td>12.0</td>\n",
       "      <td>4</td>\n",
       "      <td>1</td>\n",
       "      <td>1</td>\n",
       "      <td>651</td>\n",
       "      <td>6</td>\n",
       "      <td>0</td>\n",
       "      <td>0</td>\n",
       "      <td>0</td>\n",
       "      <td>0</td>\n",
       "      <td>0</td>\n",
       "      <td>0</td>\n",
       "      <td>0</td>\n",
       "      <td>0</td>\n",
       "      <td>0</td>\n",
       "      <td>0</td>\n",
       "      <td>0</td>\n",
       "      <td>0</td>\n",
       "      <td>0</td>\n",
       "      <td>1</td>\n",
       "      <td>0</td>\n",
       "      <td>0</td>\n",
       "      <td>0</td>\n",
       "      <td>0</td>\n",
       "      <td>0</td>\n",
       "      <td>0</td>\n",
       "      <td>0</td>\n",
       "      <td>0</td>\n",
       "      <td>0</td>\n",
       "      <td>0</td>\n",
       "      <td>0</td>\n",
       "      <td>0</td>\n",
       "      <td>0</td>\n",
       "      <td>0</td>\n",
       "      <td>0</td>\n",
       "      <td>0</td>\n",
       "      <td>0</td>\n",
       "      <td>0</td>\n",
       "      <td>0</td>\n",
       "      <td>0</td>\n",
       "      <td>0</td>\n",
       "      <td>0</td>\n",
       "      <td>0</td>\n",
       "      <td>0</td>\n",
       "      <td>0</td>\n",
       "      <td>0</td>\n",
       "      <td>0</td>\n",
       "      <td>0</td>\n",
       "      <td>0</td>\n",
       "      <td>0</td>\n",
       "      <td>0</td>\n",
       "      <td>0</td>\n",
       "      <td>0</td>\n",
       "      <td>0</td>\n",
       "      <td>0</td>\n",
       "      <td>0</td>\n",
       "      <td>0</td>\n",
       "      <td>0</td>\n",
       "      <td>0</td>\n",
       "      <td>0</td>\n",
       "      <td>0</td>\n",
       "      <td>0</td>\n",
       "      <td>0</td>\n",
       "      <td>0</td>\n",
       "      <td>0</td>\n",
       "      <td>0</td>\n",
       "      <td>0</td>\n",
       "      <td>0</td>\n",
       "      <td>0</td>\n",
       "      <td>0</td>\n",
       "      <td>0</td>\n",
       "      <td>0</td>\n",
       "      <td>0</td>\n",
       "      <td>0</td>\n",
       "      <td>0</td>\n",
       "      <td>0</td>\n",
       "      <td>0</td>\n",
       "      <td>0</td>\n",
       "      <td>0</td>\n",
       "      <td>0</td>\n",
       "      <td>0</td>\n",
       "      <td>0</td>\n",
       "      <td>0</td>\n",
       "      <td>1</td>\n",
       "      <td>0</td>\n",
       "      <td>0</td>\n",
       "      <td>0</td>\n",
       "      <td>0</td>\n",
       "      <td>30.0</td>\n",
       "      <td>1</td>\n",
       "      <td>0</td>\n",
       "      <td>3.0</td>\n",
       "      <td>105.0</td>\n",
       "      <td>11134150.0</td>\n",
       "      <td>1</td>\n",
       "      <td>51.0</td>\n",
       "      <td>1.6</td>\n",
       "      <td>162.0</td>\n",
       "      <td>31.43</td>\n",
       "      <td>48.43</td>\n",
       "      <td>0.70</td>\n",
       "      <td>0.9571</td>\n",
       "    </tr>\n",
       "    <tr>\n",
       "      <th>4</th>\n",
       "      <td>600.0</td>\n",
       "      <td>1</td>\n",
       "      <td>20.0</td>\n",
       "      <td>18</td>\n",
       "      <td>1</td>\n",
       "      <td>1</td>\n",
       "      <td>466</td>\n",
       "      <td>6</td>\n",
       "      <td>0</td>\n",
       "      <td>0</td>\n",
       "      <td>0</td>\n",
       "      <td>0</td>\n",
       "      <td>0</td>\n",
       "      <td>0</td>\n",
       "      <td>0</td>\n",
       "      <td>0</td>\n",
       "      <td>0</td>\n",
       "      <td>0</td>\n",
       "      <td>0</td>\n",
       "      <td>1</td>\n",
       "      <td>0</td>\n",
       "      <td>0</td>\n",
       "      <td>0</td>\n",
       "      <td>0</td>\n",
       "      <td>0</td>\n",
       "      <td>0</td>\n",
       "      <td>0</td>\n",
       "      <td>0</td>\n",
       "      <td>0</td>\n",
       "      <td>0</td>\n",
       "      <td>0</td>\n",
       "      <td>0</td>\n",
       "      <td>0</td>\n",
       "      <td>0</td>\n",
       "      <td>0</td>\n",
       "      <td>0</td>\n",
       "      <td>0</td>\n",
       "      <td>1</td>\n",
       "      <td>0</td>\n",
       "      <td>0</td>\n",
       "      <td>0</td>\n",
       "      <td>0</td>\n",
       "      <td>0</td>\n",
       "      <td>0</td>\n",
       "      <td>0</td>\n",
       "      <td>0</td>\n",
       "      <td>0</td>\n",
       "      <td>0</td>\n",
       "      <td>0</td>\n",
       "      <td>0</td>\n",
       "      <td>0</td>\n",
       "      <td>0</td>\n",
       "      <td>0</td>\n",
       "      <td>0</td>\n",
       "      <td>0</td>\n",
       "      <td>0</td>\n",
       "      <td>0</td>\n",
       "      <td>0</td>\n",
       "      <td>0</td>\n",
       "      <td>0</td>\n",
       "      <td>0</td>\n",
       "      <td>0</td>\n",
       "      <td>0</td>\n",
       "      <td>0</td>\n",
       "      <td>0</td>\n",
       "      <td>0</td>\n",
       "      <td>0</td>\n",
       "      <td>0</td>\n",
       "      <td>0</td>\n",
       "      <td>0</td>\n",
       "      <td>0</td>\n",
       "      <td>0</td>\n",
       "      <td>0</td>\n",
       "      <td>0</td>\n",
       "      <td>0</td>\n",
       "      <td>0</td>\n",
       "      <td>0</td>\n",
       "      <td>0</td>\n",
       "      <td>0</td>\n",
       "      <td>0</td>\n",
       "      <td>0</td>\n",
       "      <td>0</td>\n",
       "      <td>0</td>\n",
       "      <td>0</td>\n",
       "      <td>0</td>\n",
       "      <td>0</td>\n",
       "      <td>0</td>\n",
       "      <td>0</td>\n",
       "      <td>0</td>\n",
       "      <td>0</td>\n",
       "      <td>38.0</td>\n",
       "      <td>0</td>\n",
       "      <td>1</td>\n",
       "      <td>4.5</td>\n",
       "      <td>113.0</td>\n",
       "      <td>24611150.0</td>\n",
       "      <td>1</td>\n",
       "      <td>29.0</td>\n",
       "      <td>3.4</td>\n",
       "      <td>37.6</td>\n",
       "      <td>5.97</td>\n",
       "      <td>8.59</td>\n",
       "      <td>1.25</td>\n",
       "      <td>0.9246</td>\n",
       "    </tr>\n",
       "  </tbody>\n",
       "</table>\n",
       "</div>"
      ],
      "text/plain": [
       "   LOAN_AMOUNT  STATUS  LENDER_TERM  NUM_LENDERS_TOTAL  NUM_JOURNAL_ENTRIES  \\\n",
       "0       1100.0       1         14.0                  4                    1   \n",
       "1        500.0       1         14.0                  4                    1   \n",
       "2        550.0       1         14.0                  1                    1   \n",
       "3        550.0       1         12.0                  4                    1   \n",
       "4        600.0       1         20.0                 18                    1   \n",
       "\n",
       "   BORROWER_PICTURED  LEN_DESCRIPTION  LEN_TAGS  Agriculture  Arts  Clothing  \\\n",
       "0                  1              617         8            0     0         0   \n",
       "1                  1              334         5            0     0         1   \n",
       "2                  1              592         6            0     0         0   \n",
       "3                  1              651         6            0     0         0   \n",
       "4                  1              466         6            0     0         0   \n",
       "\n",
       "   Construction  Education  Entertainment  Food  Health  Housing  \\\n",
       "0             0          0              0     0       0        1   \n",
       "1             0          0              0     0       0        0   \n",
       "2             0          0              0     0       0        0   \n",
       "3             0          0              0     0       0        0   \n",
       "4             0          0              0     0       0        0   \n",
       "\n",
       "   Manufacturing  Personal Use  Retail  Services  Transportation  Wholesale  \\\n",
       "0              0             0       0         0               0          0   \n",
       "1              0             0       0         0               0          0   \n",
       "2              0             0       1         0               0          0   \n",
       "3              0             0       0         0               1          0   \n",
       "4              0             0       1         0               0          0   \n",
       "\n",
       "   Albania  Armenia  Bangladesh  Bolivia  Brazil  Burkina Faso  Cambodia  \\\n",
       "0        0        0           0        0       0             0         0   \n",
       "1        0        0           0        0       0             0         0   \n",
       "2        0        0           0        0       0             0         0   \n",
       "3        0        0           0        0       0             0         0   \n",
       "4        0        0           0        0       0             0         0   \n",
       "\n",
       "   Cameroon  Colombia  Congo  Costa Rica  Dominican Republic  Ecuador  Egypt  \\\n",
       "0         0         0      0           0                   0        0      0   \n",
       "1         0         0      0           0                   0        0      0   \n",
       "2         0         0      0           0                   0        0      0   \n",
       "3         0         0      0           0                   0        0      0   \n",
       "4         0         0      0           0                   0        0      0   \n",
       "\n",
       "   El Salvador  Fiji  Georgia  Ghana  Guatemala  Haiti  Honduras  India  \\\n",
       "0            0     0        0      0          0      0         0      0   \n",
       "1            0     0        0      0          0      0         0      0   \n",
       "2            0     0        0      0          0      0         0      0   \n",
       "3            0     0        0      0          0      0         0      0   \n",
       "4            1     0        0      0          0      0         0      0   \n",
       "\n",
       "   Indonesia  Israel  Jordan  Kenya  Kosovo  Kyrgyzstan  Lebanon  Lesotho  \\\n",
       "0          0       0       0      0       0           0        0        0   \n",
       "1          0       0       0      1       0           0        0        0   \n",
       "2          0       0       0      0       0           0        0        0   \n",
       "3          0       0       0      0       0           0        0        0   \n",
       "4          0       0       0      0       0           0        0        0   \n",
       "\n",
       "   Liberia  Madagascar  Malawi  Mali  Mexico  Moldova  Mozambique  Namibia  \\\n",
       "0        0           0       0     0       0        0           0        0   \n",
       "1        0           0       0     0       0        0           0        0   \n",
       "2        0           0       0     0       0        0           0        0   \n",
       "3        0           0       0     0       0        0           0        0   \n",
       "4        0           0       0     0       0        0           0        0   \n",
       "\n",
       "   Nepal  Nicaragua  Nigeria  Pakistan  Palestine  Panama  Papua New Guinea  \\\n",
       "0      0          0        0         0          0       0                 0   \n",
       "1      0          0        0         0          0       0                 0   \n",
       "2      0          0        0         0          0       0                 0   \n",
       "3      0          0        0         0          0       0                 0   \n",
       "4      0          0        0         0          0       0                 0   \n",
       "\n",
       "   Paraguay  Peru  Philippines  Puerto Rico  Rwanda  Samoa  Senegal  \\\n",
       "0         0     0            0            0       0      0        0   \n",
       "1         0     0            0            0       0      0        0   \n",
       "2         0     0            0            0       0      0        0   \n",
       "3         0     0            0            0       0      0        0   \n",
       "4         0     0            0            0       0      0        0   \n",
       "\n",
       "   Sierra Leone  Solomon Islands  Tajikistan  Tanzania  Thailand  \\\n",
       "0             0                0           0         0         0   \n",
       "1             0                0           0         0         0   \n",
       "2             0                0           0         0         0   \n",
       "3             0                0           0         0         0   \n",
       "4             0                0           0         0         0   \n",
       "\n",
       "   The Democratic Republic of the Congo  Timor-Leste  Togo  Tonga  Turkey  \\\n",
       "0                                     0            0     0      0       0   \n",
       "1                                     0            0     0      0       0   \n",
       "2                                     0            0     0      0       0   \n",
       "3                                     0            0     0      0       0   \n",
       "4                                     0            0     0      0       0   \n",
       "\n",
       "   Uganda  United States  Vietnam  Zambia  Zimbabwe  DAYS_TO_EXPIRE  \\\n",
       "0       1              0        0       0         0            31.0   \n",
       "1       0              0        0       0         0            32.0   \n",
       "2       1              0        0       0         0            32.0   \n",
       "3       1              0        0       0         0            30.0   \n",
       "4       0              0        0       0         0            38.0   \n",
       "\n",
       "   MALE_BORROWERS  FEMALE_BORROWERS  partner_rating  time_on_kiva  \\\n",
       "0               1                 0             2.5         131.0   \n",
       "1               0                 1             2.0         140.0   \n",
       "2               1                 0             3.0         105.0   \n",
       "3               1                 0             3.0         105.0   \n",
       "4               0                 1             4.5         113.0   \n",
       "\n",
       "   total_loans  are_interest_fees_charged  avg_cost_to_borrower  \\\n",
       "0   15029975.0                          1                  47.0   \n",
       "1   15969225.0                          1                  36.0   \n",
       "2   11134150.0                          1                  51.0   \n",
       "3   11134150.0                          1                  51.0   \n",
       "4   24611150.0                          1                  29.0   \n",
       "\n",
       "   profitability_ROA  avg_loan_size  delinquency_rate  loans_at_risk_rate  \\\n",
       "0                1.0           66.7             31.72               45.79   \n",
       "1                4.0           34.9              8.28               10.96   \n",
       "2                1.6          162.0             31.43               48.43   \n",
       "3                1.6          162.0             31.43               48.43   \n",
       "4                3.4           37.6              5.97                8.59   \n",
       "\n",
       "   default_rate  emo_score  \n",
       "0          0.61     0.7845  \n",
       "1          2.78     0.9423  \n",
       "2          0.70     0.9559  \n",
       "3          0.70     0.9571  \n",
       "4          1.25     0.9246  "
      ]
     },
     "execution_count": 4,
     "metadata": {},
     "output_type": "execute_result"
    }
   ],
   "source": [
    "data2.head()"
   ]
  },
  {
   "cell_type": "code",
   "execution_count": 3,
   "metadata": {},
   "outputs": [],
   "source": [
    "#Prepare X and Y\n",
    "X1 = data1.drop(columns=['STATUS'])\n",
    "X1 = data1.drop(columns=['STATUS'])\n",
    "y1 = data1.STATUS\n",
    "y1 = data1.STATUS\n",
    "\n",
    "X2 = data2.drop(columns=['STATUS'])\n",
    "X2= data2.drop(columns=['STATUS'])\n",
    "y2 = data2.STATUS\n",
    "y2= data2.STATUS"
   ]
  },
  {
   "cell_type": "code",
   "execution_count": 4,
   "metadata": {},
   "outputs": [],
   "source": [
    "#train test split\n",
    "from sklearn.model_selection import train_test_split\n",
    "X_train1, X_test1, y_train1, y_test1 = train_test_split(X1, y1, test_size=0.2, random_state=7)\n",
    "X_train2, X_test2, y_train2, y_test2 = train_test_split(X2, y2, test_size=0.2, random_state=7)"
   ]
  },
  {
   "cell_type": "code",
   "execution_count": 5,
   "metadata": {},
   "outputs": [],
   "source": [
    "# feature scaling\n",
    "from sklearn.preprocessing import StandardScaler\n",
    "scaler = StandardScaler()\n",
    "X_train_scaled1=scaler.fit_transform(X_train1)\n",
    "X_test_scaled1=scaler.transform(X_test1)\n",
    "\n",
    "X_train_scaled2=scaler.fit_transform(X_train2)\n",
    "X_test_scaled2=scaler.transform(X_test2)"
   ]
  },
  {
   "cell_type": "code",
   "execution_count": 6,
   "metadata": {},
   "outputs": [],
   "source": [
    "#Resampling\n",
    "from imblearn.over_sampling import RandomOverSampler\n",
    "from imblearn.under_sampling import RandomUnderSampler\n",
    "from imblearn.over_sampling import SMOTE\n",
    "from collections import Counter"
   ]
  },
  {
   "cell_type": "code",
   "execution_count": 7,
   "metadata": {},
   "outputs": [],
   "source": [
    "#Random over sampling\n",
    "ros = RandomOverSampler()\n",
    "X_train_resampled1, y_train_resampled1 = ros.fit_resample(X_train_scaled1, y_train1)\n",
    "X_train_resampled2, y_train_resampled2 = ros.fit_resample(X_train_scaled2, y_train2)"
   ]
  },
  {
   "cell_type": "code",
   "execution_count": 8,
   "metadata": {},
   "outputs": [
    {
     "name": "stdout",
     "output_type": "stream",
     "text": [
      "Counter({0: 162419, 1: 162419})\n",
      "Counter({0: 162419, 1: 162419})\n"
     ]
    }
   ],
   "source": [
    "counter1 = Counter(y_train_resampled1)\n",
    "print(counter1)\n",
    "\n",
    "counter2 = Counter(y_train_resampled2)\n",
    "print(counter2)"
   ]
  },
  {
   "cell_type": "markdown",
   "metadata": {},
   "source": [
    "# Logistic Regression (Continent)"
   ]
  },
  {
   "cell_type": "code",
   "execution_count": 13,
   "metadata": {},
   "outputs": [
    {
     "data": {
      "text/plain": [
       "LogisticRegression(max_iter=10000)"
      ]
     },
     "execution_count": 13,
     "metadata": {},
     "output_type": "execute_result"
    }
   ],
   "source": [
    "from sklearn.linear_model import  LogisticRegression\n",
    "lr = LogisticRegression(max_iter=10000)\n",
    "lr.fit(X_train_resampled1, y_train_resampled1)"
   ]
  },
  {
   "cell_type": "code",
   "execution_count": 14,
   "metadata": {},
   "outputs": [
    {
     "name": "stdout",
     "output_type": "stream",
     "text": [
      "MAE: 0.09958040033934835\n",
      "MSE: 0.09958040033934835\n",
      "RMSE: 0.31556362328276744\n",
      "R^2 =  0.9004195996606517\n",
      "[[36576  4012]\n",
      " [  331  2694]]\n",
      "              precision    recall  f1-score   support\n",
      "\n",
      "           0       0.99      0.90      0.94     40588\n",
      "           1       0.40      0.89      0.55      3025\n",
      "\n",
      "    accuracy                           0.90     43613\n",
      "   macro avg       0.70      0.90      0.75     43613\n",
      "weighted avg       0.95      0.90      0.92     43613\n",
      "\n"
     ]
    }
   ],
   "source": [
    "from sklearn import metrics\n",
    "from sklearn.metrics import classification_report,confusion_matrix\n",
    "predictions= lr.predict(X_test_scaled1)\n",
    "print('MAE:', metrics.mean_absolute_error(y_test1, predictions))\n",
    "print('MSE:', metrics.mean_squared_error(y_test1, predictions))\n",
    "print('RMSE:', np.sqrt(metrics.mean_squared_error(y_test1, predictions)))\n",
    "print('R^2 = ', lr.score(X_test_scaled1, y_test1))\n",
    "print(confusion_matrix(y_test1,predictions))\n",
    "print(classification_report(y_test1, predictions))"
   ]
  },
  {
   "cell_type": "code",
   "execution_count": 64,
   "metadata": {},
   "outputs": [
    {
     "data": {
      "image/png": "[encoded data removed]",
      "text/plain": [
       "<Figure size 432x288 with 1 Axes>"
      ]
     },
     "metadata": {
      "needs_background": "light"
     },
     "output_type": "display_data"
    }
   ],
   "source": [
    "from matplotlib import pyplot\n",
    "from sklearn.metrics import roc_auc_score\n",
    "from sklearn.metrics import roc_curve\n",
    "# generate a no skill prediction (majority class)\n",
    "ns_probs = [0 for _ in range(len(y_test1))]\n",
    "\n",
    "# predict probabilities\n",
    "lr_probs = lr.predict_proba(X_test_scaled1)\n",
    "# keep probabilities for the positive outcome only\n",
    "lr_probs = lr_probs[:, 1]\n",
    "# calculate roc curves\n",
    "ns_fpr, ns_tpr, _ = roc_curve(y_test1, ns_probs)\n",
    "lr_fpr, lr_tpr, _ = roc_curve(y_test1, lr_probs)\n",
    "# plot the roc curve for the model\n",
    "pyplot.plot(ns_fpr, ns_tpr, linestyle='--', label='base')\n",
    "pyplot.plot(lr_fpr, lr_tpr, marker='.', label='Logistic Regression')\n",
    "# axis labels\n",
    "pyplot.xlabel('False Positive Rate')\n",
    "pyplot.ylabel('True Positive Rate')\n",
    "# show the legend\n",
    "pyplot.legend()\n",
    "# show the plot\n",
    "pyplot.show()\n"
   ]
  },
  {
   "cell_type": "code",
   "execution_count": 65,
   "metadata": {},
   "outputs": [
    {
     "data": {
      "text/plain": [
       "0.9493792245723404"
      ]
     },
     "execution_count": 65,
     "metadata": {},
     "output_type": "execute_result"
    }
   ],
   "source": [
    "roc_auc_score(y_test1, lr_probs)"
   ]
  },
  {
   "cell_type": "code",
   "execution_count": 66,
   "metadata": {},
   "outputs": [
    {
     "name": "stdout",
     "output_type": "stream",
     "text": [
      "[-2.47323052]\n"
     ]
    }
   ],
   "source": [
    "print(lr.intercept_) "
   ]
  },
  {
   "cell_type": "code",
   "execution_count": 67,
   "metadata": {},
   "outputs": [],
   "source": [
    "feature=X_train1.columns[:]\n",
    "values=lr.coef_.round(4)"
   ]
  },
  {
   "cell_type": "code",
   "execution_count": 68,
   "metadata": {
    "scrolled": false
   },
   "outputs": [
    {
     "name": "stdout",
     "output_type": "stream",
     "text": [
      "LOAN_AMOUNT=4.5163\n",
      "LENDER_TERM=0.901\n",
      "NUM_LENDERS_TOTAL=-5.529\n",
      "NUM_JOURNAL_ENTRIES=-1.9906\n",
      "BORROWER_PICTURED=0.4519\n",
      "LEN_DESCRIPTION=-0.0529\n",
      "LEN_TAGS=0.659\n",
      "Agriculture=0.2017\n",
      "Arts=-0.329\n",
      "Clothing=0.159\n",
      "Construction=-0.0459\n",
      "Education=-0.8986\n",
      "Entertainment=-0.0489\n",
      "Food=0.2036\n",
      "Health=0.0264\n",
      "Housing=-0.1624\n",
      "Manufacturing=-0.4099\n",
      "Personal Use=-0.2278\n",
      "Retail=0.4208\n",
      "Services=0.0614\n",
      "Transportation=0.0163\n",
      "Wholesale=0.0154\n",
      "DAYS_TO_EXPIRE=-0.0231\n",
      "MALE_BORROWERS=4.6158\n",
      "FEMALE_BORROWERS=4.0831\n",
      "partner_rating=0.0904\n",
      "time_on_kiva=0.205\n",
      "total_loans=-0.3395\n",
      "are_interest_fees_charged=-0.1842\n",
      "avg_cost_to_borrower=0.1723\n",
      "profitability_ROA=0.1795\n",
      "avg_loan_size=0.068\n",
      "delinquency_rate=0.1303\n",
      "loans_at_risk_rate=0.0046\n",
      "default_rate=0.2621\n",
      "emo_score=0.0151\n",
      "Africa=0.0752\n",
      "Asia=0.1027\n",
      "North America=-0.0495\n",
      "Europe=-0.081\n"
     ]
    }
   ],
   "source": [
    "#Feature importance\n",
    "for i in range(40):\n",
    "    print(feature[i] + \"=\" + str(values[0,i]))"
   ]
  },
  {
   "cell_type": "code",
   "execution_count": 69,
   "metadata": {},
   "outputs": [
    {
     "name": "stderr",
     "output_type": "stream",
     "text": [
      "The feature_perturbation option is now deprecated in favor of using the appropriate masker (maskers.Independent, or maskers.Impute)\n"
     ]
    }
   ],
   "source": [
    "#Feature importance from Shap\n",
    "import shap\n",
    "explainer = shap.LinearExplainer(lr, X_test_scaled1)\n",
    "shap_values = explainer.shap_values(X_test_scaled1)"
   ]
  },
  {
   "cell_type": "code",
   "execution_count": 70,
   "metadata": {},
   "outputs": [
    {
     "data": {
      "image/png": "[encoded data removed]",
      "text/plain": [
       "<Figure size 576x684 with 2 Axes>"
      ]
     },
     "metadata": {
      "needs_background": "light"
     },
     "output_type": "display_data"
    }
   ],
   "source": [
    "#global\n",
    "shap.summary_plot(shap_values, features=X_test_scaled1, feature_names=feature)"
   ]
  },
  {
   "cell_type": "code",
   "execution_count": 71,
   "metadata": {},
   "outputs": [
    {
     "data": {
      "image/png": "[encoded data removed]",
      "text/plain": [
       "<Figure size 576x468 with 3 Axes>"
      ]
     },
     "metadata": {},
     "output_type": "display_data"
    }
   ],
   "source": [
    "#local\n",
    "sample_ind = 10\n",
    "shap.plots._waterfall.waterfall_legacy(explainer.expected_value, shap_values[sample_ind], X1.iloc[sample_ind])"
   ]
  },
  {
   "cell_type": "markdown",
   "metadata": {},
   "source": [
    "# Logistic Regression (Country)"
   ]
  },
  {
   "cell_type": "code",
   "execution_count": 52,
   "metadata": {},
   "outputs": [
    {
     "data": {
      "text/plain": [
       "LogisticRegression(max_iter=10000)"
      ]
     },
     "execution_count": 52,
     "metadata": {},
     "output_type": "execute_result"
    }
   ],
   "source": [
    "from sklearn.linear_model import  LogisticRegression\n",
    "lr = LogisticRegression(max_iter=10000)\n",
    "lr.fit(X_train_resampled2, y_train_resampled2)"
   ]
  },
  {
   "cell_type": "code",
   "execution_count": 53,
   "metadata": {},
   "outputs": [
    {
     "name": "stdout",
     "output_type": "stream",
     "text": [
      "MAE: 0.10586293077752046\n",
      "MSE: 0.10586293077752046\n",
      "RMSE: 0.3253658414423992\n",
      "R^2 =  0.8941370692224795\n",
      "[[36222  4366]\n",
      " [  251  2774]]\n",
      "              precision    recall  f1-score   support\n",
      "\n",
      "           0       0.99      0.89      0.94     40588\n",
      "           1       0.39      0.92      0.55      3025\n",
      "\n",
      "    accuracy                           0.89     43613\n",
      "   macro avg       0.69      0.90      0.74     43613\n",
      "weighted avg       0.95      0.89      0.91     43613\n",
      "\n"
     ]
    }
   ],
   "source": [
    "from sklearn import metrics\n",
    "from sklearn.metrics import classification_report,confusion_matrix\n",
    "predictions= lr.predict(X_test_scaled2)\n",
    "print('MAE:', metrics.mean_absolute_error(y_test2, predictions))\n",
    "print('MSE:', metrics.mean_squared_error(y_test2, predictions))\n",
    "print('RMSE:', np.sqrt(metrics.mean_squared_error(y_test2, predictions)))\n",
    "print('R^2 = ', lr.score(X_test_scaled2, y_test2))\n",
    "print(confusion_matrix(y_test2,predictions))\n",
    "print(classification_report(y_test2, predictions))"
   ]
  },
  {
   "cell_type": "code",
   "execution_count": 54,
   "metadata": {},
   "outputs": [
    {
     "data": {
      "image/png": "[encoded data removed]",
      "text/plain": [
       "<Figure size 432x288 with 1 Axes>"
      ]
     },
     "metadata": {
      "needs_background": "light"
     },
     "output_type": "display_data"
    }
   ],
   "source": [
    "from matplotlib import pyplot\n",
    "from sklearn.metrics import roc_auc_score\n",
    "from sklearn.metrics import roc_curve\n",
    "# generate a no skill prediction (majority class)\n",
    "ns_probs = [0 for _ in range(len(y_test2))]\n",
    "\n",
    "# predict probabilities\n",
    "lr_probs = lr.predict_proba(X_test_scaled2)\n",
    "# keep probabilities for the positive outcome only\n",
    "lr_probs = lr_probs[:, 1]\n",
    "# calculate roc curves\n",
    "ns_fpr, ns_tpr, _ = roc_curve(y_test2, ns_probs)\n",
    "lr_fpr, lr_tpr, _ = roc_curve(y_test2, lr_probs)\n",
    "# plot the roc curve for the model\n",
    "pyplot.plot(ns_fpr, ns_tpr, linestyle='--', label='base')\n",
    "pyplot.plot(lr_fpr, lr_tpr, marker='.', label='Logistic Regression')\n",
    "# axis labels\n",
    "pyplot.xlabel('False Positive Rate')\n",
    "pyplot.ylabel('True Positive Rate')\n",
    "# show the legend\n",
    "pyplot.legend()\n",
    "# show the plot\n",
    "pyplot.show()\n"
   ]
  },
  {
   "cell_type": "code",
   "execution_count": 55,
   "metadata": {},
   "outputs": [
    {
     "data": {
      "text/plain": [
       "0.9591468960006906"
      ]
     },
     "execution_count": 55,
     "metadata": {},
     "output_type": "execute_result"
    }
   ],
   "source": [
    "roc_auc_score(y_test2, lr_probs)"
   ]
  },
  {
   "cell_type": "code",
   "execution_count": 56,
   "metadata": {},
   "outputs": [
    {
     "name": "stdout",
     "output_type": "stream",
     "text": [
      "[-4.6392319]\n"
     ]
    }
   ],
   "source": [
    "print(lr.intercept_) "
   ]
  },
  {
   "cell_type": "code",
   "execution_count": 57,
   "metadata": {},
   "outputs": [],
   "source": [
    "feature=X_train2.columns[:]\n",
    "values=lr.coef_.round(4)"
   ]
  },
  {
   "cell_type": "code",
   "execution_count": 58,
   "metadata": {},
   "outputs": [
    {
     "name": "stdout",
     "output_type": "stream",
     "text": [
      "LOAN_AMOUNT=4.5563\n",
      "LENDER_TERM=0.8877\n",
      "NUM_LENDERS_TOTAL=-5.3945\n",
      "NUM_JOURNAL_ENTRIES=-3.049\n",
      "BORROWER_PICTURED=0.4087\n",
      "LEN_DESCRIPTION=-0.3476\n",
      "LEN_TAGS=0.6251\n",
      "Agriculture=0.1709\n",
      "Arts=-0.3202\n",
      "Clothing=0.1607\n",
      "Construction=-0.0283\n",
      "Education=-0.923\n",
      "Entertainment=-0.034\n",
      "Food=0.2178\n",
      "Health=-0.1111\n",
      "Housing=-0.0924\n",
      "Manufacturing=-0.3729\n",
      "Personal Use=-0.2144\n",
      "Retail=0.4365\n",
      "Services=0.0513\n",
      "Transportation=-0.0053\n",
      "Wholesale=0.007\n",
      "Albania=0.1011\n",
      "Armenia=-0.1134\n",
      "Bangladesh=0.003\n",
      "Bolivia=0.1018\n",
      "Brazil=0.165\n",
      "Burkina Faso=0.0594\n",
      "Cambodia=0.2609\n",
      "Cameroon=0.0812\n",
      "Colombia=0.6831\n",
      "Congo=0.0018\n",
      "Costa Rica=-0.1306\n",
      "Dominican Republic=0.1571\n",
      "Ecuador=0.0273\n",
      "Egypt=-0.0634\n",
      "El Salvador=0.3347\n",
      "Fiji=0.1952\n",
      "Georgia=-0.0077\n",
      "Ghana=0.1905\n",
      "Guatemala=0.2473\n",
      "Haiti=0.1143\n",
      "Honduras=0.0895\n",
      "India=-1.2691\n",
      "Indonesia=-0.7048\n",
      "Israel=-0.3863\n",
      "Jordan=0.3975\n",
      "Kenya=1.0215\n",
      "Kosovo=0.0535\n",
      "Kyrgyzstan=0.2233\n",
      "Lebanon=0.5543\n",
      "Lesotho=-0.2831\n",
      "Liberia=-0.8572\n",
      "Madagascar=-1.1453\n",
      "Malawi=-0.9145\n",
      "Mali=0.2672\n",
      "Mexico=0.3158\n",
      "Moldova=0.0691\n",
      "Mozambique=-0.1929\n",
      "Namibia=-0.019\n",
      "Nepal=-0.2233\n",
      "Nicaragua=0.1825\n",
      "Nigeria=0.2019\n",
      "Pakistan=-9.6834\n",
      "Palestine=-0.121\n",
      "Panama=-0.142\n",
      "Papua New Guinea=-0.1405\n",
      "Paraguay=0.0511\n",
      "Peru=0.0718\n",
      "Philippines=0.981\n",
      "Puerto Rico=0.0\n",
      "Rwanda=0.2202\n",
      "Samoa=-0.1067\n",
      "Senegal=0.129\n",
      "Sierra Leone=0.1032\n",
      "Solomon Islands=0.0052\n",
      "Tajikistan=0.3701\n",
      "Tanzania=0.1678\n",
      "Thailand=-0.1489\n",
      "The Democratic Republic of the Congo=0.1789\n",
      "Timor-Leste=0.1964\n",
      "Togo=0.0523\n",
      "Tonga=0.2094\n",
      "Turkey=-0.2177\n",
      "Uganda=0.4093\n",
      "United States=-0.1533\n",
      "Vietnam=0.2305\n",
      "Zambia=-0.2356\n",
      "Zimbabwe=0.1869\n",
      "DAYS_TO_EXPIRE=-0.0412\n",
      "MALE_BORROWERS=4.3695\n",
      "FEMALE_BORROWERS=3.8276\n",
      "partner_rating=0.284\n",
      "time_on_kiva=0.1996\n",
      "total_loans=-0.7349\n",
      "are_interest_fees_charged=-0.3092\n",
      "avg_cost_to_borrower=0.2066\n",
      "profitability_ROA=-0.1667\n",
      "avg_loan_size=0.0396\n",
      "delinquency_rate=-1.5667\n",
      "loans_at_risk_rate=1.7492\n"
     ]
    }
   ],
   "source": [
    "#Feature importance\n",
    "for i in range(101):\n",
    "    print(feature[i] + \"=\" + str(values[0,i]))"
   ]
  },
  {
   "cell_type": "code",
   "execution_count": 59,
   "metadata": {},
   "outputs": [
    {
     "name": "stderr",
     "output_type": "stream",
     "text": [
      "The feature_perturbation option is now deprecated in favor of using the appropriate masker (maskers.Independent, or maskers.Impute)\n"
     ]
    }
   ],
   "source": [
    "#Feature importance using Shap\n",
    "import shap\n",
    "explainer = shap.LinearExplainer(lr, X_test_scaled2)\n",
    "shap_values = explainer.shap_values(X_test_scaled2)"
   ]
  },
  {
   "cell_type": "code",
   "execution_count": 60,
   "metadata": {},
   "outputs": [
    {
     "data": {
      "image/png": "[encoded data removed]",
      "text/plain": [
       "<Figure size 576x684 with 2 Axes>"
      ]
     },
     "metadata": {
      "needs_background": "light"
     },
     "output_type": "display_data"
    }
   ],
   "source": [
    "#global\n",
    "shap.summary_plot(shap_values, features=X_test_scaled2, feature_names=feature)"
   ]
  },
  {
   "cell_type": "code",
   "execution_count": 61,
   "metadata": {},
   "outputs": [
    {
     "data": {
      "image/png": "[encoded data removed]",
      "text/plain": [
       "<Figure size 576x468 with 3 Axes>"
      ]
     },
     "metadata": {},
     "output_type": "display_data"
    }
   ],
   "source": [
    "#local\n",
    "sample_ind = 10\n",
    "shap.plots._waterfall.waterfall_legacy(explainer.expected_value, shap_values[sample_ind], X2.iloc[sample_ind])"
   ]
  },
  {
   "cell_type": "markdown",
   "metadata": {},
   "source": [
    "# Gaussian Bayes Model (continent)"
   ]
  },
  {
   "cell_type": "code",
   "execution_count": 72,
   "metadata": {},
   "outputs": [],
   "source": [
    "# import and instantiate a Multinomial Naive Bayes model\n",
    "from sklearn.naive_bayes import GaussianNB\n",
    "clf = GaussianNB()"
   ]
  },
  {
   "cell_type": "code",
   "execution_count": 73,
   "metadata": {},
   "outputs": [
    {
     "name": "stdout",
     "output_type": "stream",
     "text": [
      "Wall time: 474 ms\n"
     ]
    },
    {
     "data": {
      "text/plain": [
       "GaussianNB()"
      ]
     },
     "execution_count": 73,
     "metadata": {},
     "output_type": "execute_result"
    }
   ],
   "source": [
    "# train the model\n",
    "%time clf.fit(X_train_resampled1, y_train_resampled1)"
   ]
  },
  {
   "cell_type": "code",
   "execution_count": 74,
   "metadata": {},
   "outputs": [
    {
     "name": "stdout",
     "output_type": "stream",
     "text": [
      "MAE: 0.5211060922202095\n",
      "MSE: 0.5211060922202095\n",
      "RMSE: 0.7218767846524845\n",
      "R^2 =  0.4788939077797904\n",
      "[[18043 22545]\n",
      " [  182  2843]]\n",
      "              precision    recall  f1-score   support\n",
      "\n",
      "           0       0.99      0.44      0.61     40588\n",
      "           1       0.11      0.94      0.20      3025\n",
      "\n",
      "    accuracy                           0.48     43613\n",
      "   macro avg       0.55      0.69      0.41     43613\n",
      "weighted avg       0.93      0.48      0.58     43613\n",
      "\n"
     ]
    }
   ],
   "source": [
    "from sklearn import metrics\n",
    "from sklearn.metrics import classification_report,confusion_matrix\n",
    "predictions_g= clf.predict(X_test_scaled1)\n",
    "print('MAE:', metrics.mean_absolute_error(y_test1, predictions_g))\n",
    "print('MSE:', metrics.mean_squared_error(y_test1, predictions_g))\n",
    "print('RMSE:', np.sqrt(metrics.mean_squared_error(y_test1, predictions_g)))\n",
    "print('R^2 = ', clf.score(X_test_scaled1, y_test1))\n",
    "print(confusion_matrix(y_test1,predictions_g))\n",
    "print(classification_report(y_test1, predictions_g))"
   ]
  },
  {
   "cell_type": "code",
   "execution_count": 75,
   "metadata": {},
   "outputs": [
    {
     "data": {
      "image/png": "[encoded data removed]",
      "text/plain": [
       "<Figure size 432x288 with 1 Axes>"
      ]
     },
     "metadata": {
      "needs_background": "light"
     },
     "output_type": "display_data"
    }
   ],
   "source": [
    "from matplotlib import pyplot\n",
    "from sklearn.metrics import roc_auc_score\n",
    "from sklearn.metrics import roc_curve\n",
    "# generate a no skill prediction (majority class)\n",
    "ns_probs = [0 for _ in range(len(y_test1))]\n",
    "\n",
    "# predict probabilities\n",
    "gb_probs = clf.predict_proba(X_test_scaled1)\n",
    "# keep probabilities for the positive outcome only\n",
    "gb_probs = gb_probs[:, 1]\n",
    "# calculate roc curves\n",
    "ns_fpr, ns_tpr, _ = roc_curve(y_test1, ns_probs)\n",
    "gb_fpr, gb_tpr, _ = roc_curve(y_test1, gb_probs)\n",
    "# plot the roc curve for the model\n",
    "pyplot.plot(ns_fpr, ns_tpr, linestyle='--', label='base')\n",
    "pyplot.plot(gb_fpr, gb_tpr, marker='.', label='Naive Bayes')\n",
    "# axis labels\n",
    "pyplot.xlabel('False Positive Rate')\n",
    "pyplot.ylabel('True Positive Rate')\n",
    "# show the legend\n",
    "pyplot.legend()\n",
    "# show the plot\n",
    "pyplot.show()\n"
   ]
  },
  {
   "cell_type": "code",
   "execution_count": 76,
   "metadata": {},
   "outputs": [
    {
     "data": {
      "text/plain": [
       "0.8160640648581553"
      ]
     },
     "execution_count": 76,
     "metadata": {},
     "output_type": "execute_result"
    }
   ],
   "source": [
    "roc_auc_score(y_test1, gb_probs)"
   ]
  },
  {
   "cell_type": "markdown",
   "metadata": {},
   "source": [
    "# Gaussian Bayes Model (country)"
   ]
  },
  {
   "cell_type": "code",
   "execution_count": 77,
   "metadata": {},
   "outputs": [],
   "source": [
    "# import and instantiate a Multinomial Naive Bayes model\n",
    "from sklearn.naive_bayes import GaussianNB\n",
    "clf = GaussianNB()"
   ]
  },
  {
   "cell_type": "code",
   "execution_count": 78,
   "metadata": {},
   "outputs": [
    {
     "name": "stdout",
     "output_type": "stream",
     "text": [
      "Wall time: 1.06 s\n"
     ]
    },
    {
     "data": {
      "text/plain": [
       "GaussianNB()"
      ]
     },
     "execution_count": 78,
     "metadata": {},
     "output_type": "execute_result"
    }
   ],
   "source": [
    "# train the model\n",
    "%time clf.fit(X_train_resampled2, y_train_resampled2)"
   ]
  },
  {
   "cell_type": "code",
   "execution_count": 79,
   "metadata": {},
   "outputs": [
    {
     "name": "stdout",
     "output_type": "stream",
     "text": [
      "MAE: 0.7297136174993695\n",
      "MSE: 0.7297136174993695\n",
      "RMSE: 0.8542327654096216\n",
      "R^2 =  0.27028638250063053\n",
      "[[ 8784 31804]\n",
      " [   21  3004]]\n",
      "              precision    recall  f1-score   support\n",
      "\n",
      "           0       1.00      0.22      0.36     40588\n",
      "           1       0.09      0.99      0.16      3025\n",
      "\n",
      "    accuracy                           0.27     43613\n",
      "   macro avg       0.54      0.60      0.26     43613\n",
      "weighted avg       0.93      0.27      0.34     43613\n",
      "\n"
     ]
    }
   ],
   "source": [
    "from sklearn import metrics\n",
    "from sklearn.metrics import classification_report,confusion_matrix\n",
    "predictions_g= clf.predict(X_test_scaled2)\n",
    "print('MAE:', metrics.mean_absolute_error(y_test2, predictions_g))\n",
    "print('MSE:', metrics.mean_squared_error(y_test2, predictions_g))\n",
    "print('RMSE:', np.sqrt(metrics.mean_squared_error(y_test2, predictions_g)))\n",
    "print('R^2 = ', clf.score(X_test_scaled2, y_test2))\n",
    "print(confusion_matrix(y_test2,predictions_g))\n",
    "print(classification_report(y_test2, predictions_g))"
   ]
  },
  {
   "cell_type": "code",
   "execution_count": 80,
   "metadata": {},
   "outputs": [
    {
     "data": {
      "image/png": "[encoded data removed]",
      "text/plain": [
       "<Figure size 432x288 with 1 Axes>"
      ]
     },
     "metadata": {
      "needs_background": "light"
     },
     "output_type": "display_data"
    }
   ],
   "source": [
    "from matplotlib import pyplot\n",
    "from sklearn.metrics import roc_auc_score\n",
    "from sklearn.metrics import roc_curve\n",
    "# generate a no skill prediction (majority class)\n",
    "ns_probs = [0 for _ in range(len(y_test2))]\n",
    "\n",
    "# predict probabilities\n",
    "gb_probs = clf.predict_proba(X_test_scaled2)\n",
    "# keep probabilities for the positive outcome only\n",
    "gb_probs = gb_probs[:, 1]\n",
    "# calculate roc curves\n",
    "ns_fpr, ns_tpr, _ = roc_curve(y_test2, ns_probs)\n",
    "gb_fpr, gb_tpr, _ = roc_curve(y_test2, gb_probs)\n",
    "# plot the roc curve for the model\n",
    "pyplot.plot(ns_fpr, ns_tpr, linestyle='--', label='base')\n",
    "pyplot.plot(gb_fpr, gb_tpr, marker='.', label='Naive Bayes')\n",
    "# axis labels\n",
    "pyplot.xlabel('False Positive Rate')\n",
    "pyplot.ylabel('True Positive Rate')\n",
    "# show the legend\n",
    "pyplot.legend()\n",
    "# show the plot\n",
    "pyplot.show()"
   ]
  },
  {
   "cell_type": "code",
   "execution_count": 81,
   "metadata": {},
   "outputs": [
    {
     "data": {
      "text/plain": [
       "0.6050010099471651"
      ]
     },
     "execution_count": 81,
     "metadata": {},
     "output_type": "execute_result"
    }
   ],
   "source": [
    "roc_auc_score(y_test2, gb_probs)"
   ]
  },
  {
   "cell_type": "markdown",
   "metadata": {},
   "source": [
    "# K nearest neighbour"
   ]
  },
  {
   "cell_type": "code",
   "execution_count": 16,
   "metadata": {},
   "outputs": [],
   "source": [
    "#Getting best number of neighbours to use"
   ]
  },
  {
   "cell_type": "code",
   "execution_count": 109,
   "metadata": {},
   "outputs": [
    {
     "name": "stdout",
     "output_type": "stream",
     "text": [
      "Wall time: 0 ns\n",
      "Wall time: 0 ns\n",
      "Wall time: 0 ns\n",
      "Wall time: 0 ns\n",
      "Wall time: 0 ns\n",
      "Wall time: 0 ns\n",
      "Wall time: 0 ns\n",
      "Wall time: 0 ns\n",
      "Wall time: 0 ns\n",
      "Wall time: 0 ns\n",
      "Wall time: 0 ns\n",
      "Wall time: 0 ns\n",
      "Wall time: 0 ns\n",
      "Wall time: 1.01 ms\n",
      "Wall time: 0 ns\n",
      "Wall time: 0 ns\n",
      "Wall time: 0 ns\n",
      "Wall time: 0 ns\n",
      "Wall time: 0 ns\n",
      "Wall time: 0 ns\n",
      "Wall time: 0 ns\n",
      "Wall time: 0 ns\n",
      "Wall time: 999 µs\n",
      "Wall time: 0 ns\n",
      "Wall time: 0 ns\n",
      "Wall time: 0 ns\n",
      "Wall time: 0 ns\n",
      "Wall time: 0 ns\n",
      "Wall time: 0 ns\n"
     ]
    }
   ],
   "source": [
    "error_rate = []\n",
    "for i in range(1,30):\n",
    "    %time knn = KNeighborsClassifier(n_neighbors=i)\n",
    "    knn.fit(X_train_resampled1, y_train_resampled1)\n",
    "    pred_i = knn.predict(X_test_scaled1)\n",
    "    error_rate.append(np.mean(pred_i != y_test1)) #avg of predicted value compare to actual y value"
   ]
  },
  {
   "cell_type": "code",
   "execution_count": 110,
   "metadata": {
    "scrolled": true
   },
   "outputs": [
    {
     "name": "stdout",
     "output_type": "stream",
     "text": [
      "[0.05273656937151767, 0.05273656937151767, 0.06491183821337675, 0.06491183821337675, 0.07995322495586178, 0.07995322495586178, 0.09476532226629675, 0.09474239332309174, 0.10879783550776145, 0.10859147501891638, 0.12090431752000551, 0.12033109393988031, 0.13250636278173938, 0.13147456033751403, 0.14248045307591772, 0.13947676151606173, 0.15002407539036525, 0.1471350285465343, 0.1561461032261023, 0.15156031458510077, 0.16020452617338868, 0.1534404879279114, 0.161213399674409, 0.15417421411047164, 0.16155733382248413, 0.15360099053034645, 0.16077774975351386, 0.15460986403136678, 0.16086946552633388]\n"
     ]
    }
   ],
   "source": [
    "print(error_rate)"
   ]
  },
  {
   "cell_type": "code",
   "execution_count": 112,
   "metadata": {},
   "outputs": [
    {
     "data": {
      "text/plain": [
       "Text(0, 0.5, 'Error Rate')"
      ]
     },
     "execution_count": 112,
     "metadata": {},
     "output_type": "execute_result"
    },
    {
     "data": {
      "image/png": "[encoded data removed]",
      "text/plain": [
       "<Figure size 720x432 with 1 Axes>"
      ]
     },
     "metadata": {
      "needs_background": "light"
     },
     "output_type": "display_data"
    }
   ],
   "source": [
    "plt.figure(figsize=(10,6))\n",
    "plt.plot(range(1,30),error_rate,color='blue', linestyle='dashed', marker='o',\n",
    "         markerfacecolor='red', markersize=10)\n",
    "plt.title('Error Rate vs. K Value')    #add title \n",
    "plt.xlabel('K')                                     # add x label\n",
    "plt.ylabel('Error Rate')                     #add y label\n"
   ]
  },
  {
   "cell_type": "code",
   "execution_count": 17,
   "metadata": {},
   "outputs": [],
   "source": [
    "#Use best n to run again"
   ]
  },
  {
   "cell_type": "code",
   "execution_count": 11,
   "metadata": {},
   "outputs": [],
   "source": [
    "from sklearn.neighbors import KNeighborsClassifier\n",
    "knn = KNeighborsClassifier(n_neighbors=1)"
   ]
  },
  {
   "cell_type": "code",
   "execution_count": 12,
   "metadata": {},
   "outputs": [
    {
     "name": "stdout",
     "output_type": "stream",
     "text": [
      "Wall time: 37.9 ms\n"
     ]
    }
   ],
   "source": [
    "%time knn.fit(X_train_resampled1, y_train_resampled1)\n",
    "pred = knn.predict(X_test_scaled1)"
   ]
  },
  {
   "cell_type": "code",
   "execution_count": 13,
   "metadata": {},
   "outputs": [
    {
     "name": "stdout",
     "output_type": "stream",
     "text": [
      "MAE: 0.05273656937151767\n",
      "MSE: 0.05273656937151767\n",
      "RMSE: 0.22964444119446406\n",
      "R^2 =  0.9306399468048517\n",
      "[[39502  1086]\n",
      " [ 1214  1811]]\n",
      "              precision    recall  f1-score   support\n",
      "\n",
      "           0       0.97      0.97      0.97     40588\n",
      "           1       0.63      0.60      0.61      3025\n",
      "\n",
      "    accuracy                           0.95     43613\n",
      "   macro avg       0.80      0.79      0.79     43613\n",
      "weighted avg       0.95      0.95      0.95     43613\n",
      "\n"
     ]
    }
   ],
   "source": [
    "from sklearn import metrics\n",
    "from sklearn.metrics import classification_report,confusion_matrix\n",
    "print('MAE:', metrics.mean_absolute_error(y_test1, pred))\n",
    "print('MSE:', metrics.mean_squared_error(y_test1, pred))\n",
    "print('RMSE:', np.sqrt(metrics.mean_squared_error(y_test1, pred)))\n",
    "print('R^2 = ', knn.score(X_test1, y_test1))\n",
    "print(confusion_matrix(y_test1,pred))\n",
    "print(classification_report(y_test1, pred))"
   ]
  },
  {
   "cell_type": "code",
   "execution_count": 14,
   "metadata": {},
   "outputs": [
    {
     "data": {
      "image/png": "[encoded data removed]",
      "text/plain": [
       "<Figure size 432x288 with 1 Axes>"
      ]
     },
     "metadata": {
      "needs_background": "light"
     },
     "output_type": "display_data"
    }
   ],
   "source": [
    "from matplotlib import pyplot\n",
    "from sklearn.metrics import roc_auc_score\n",
    "from sklearn.metrics import roc_curve\n",
    "# generate a no skill prediction (majority class)\n",
    "ns_probs = [0 for _ in range(len(y_test1))]\n",
    "\n",
    "# predict probabilities\n",
    "knn_probs = knn.predict_proba(X_test_scaled1)\n",
    "# keep probabilities for the positive outcome only\n",
    "knn_probs = knn_probs[:, 1]\n",
    "# calculate roc curves\n",
    "ns_fpr, ns_tpr, _ = roc_curve(y_test1, ns_probs)\n",
    "knn_fpr, knn_tpr, _ = roc_curve(y_test1, knn_probs)\n",
    "# plot the roc curve for the model\n",
    "pyplot.plot(ns_fpr, ns_tpr, linestyle='--', label='base')\n",
    "pyplot.plot(knn_fpr, knn_tpr, marker='.', label='knn')\n",
    "# axis labels\n",
    "pyplot.xlabel('False Positive Rate')\n",
    "pyplot.ylabel('True Positive Rate')\n",
    "# show the legend\n",
    "pyplot.legend()\n",
    "# show the plot\n",
    "pyplot.show()\n"
   ]
  },
  {
   "cell_type": "code",
   "execution_count": 15,
   "metadata": {},
   "outputs": [
    {
     "data": {
      "text/plain": [
       "0.7859605045500563"
      ]
     },
     "execution_count": 15,
     "metadata": {},
     "output_type": "execute_result"
    }
   ],
   "source": [
    "roc_auc_score(y_test1, knn_probs)"
   ]
  }
 ],
 "metadata": {
  "kernelspec": {
   "display_name": "Python 3",
   "language": "python",
   "name": "python3"
  },
  "language_info": {
   "codemirror_mode": {
    "name": "ipython",
    "version": 3
   },
   "file_extension": ".py",
   "mimetype": "text/x-python",
   "name": "python",
   "nbconvert_exporter": "python",
   "pygments_lexer": "ipython3",
   "version": "3.7.6"
  }
 },
 "nbformat": 4,
 "nbformat_minor": 4
}
