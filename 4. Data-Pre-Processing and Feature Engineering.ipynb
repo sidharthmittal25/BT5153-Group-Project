{
 "cells": [
  {
   "cell_type": "code",
   "execution_count": null,
   "metadata": {
    "id": "n8z1rr1OQFDZ"
   },
   "outputs": [],
   "source": [
    "import pandas as pd\n",
    "import numpy as np"
   ]
  },
  {
   "cell_type": "code",
   "execution_count": null,
   "metadata": {
    "id": "c0qtpf8cQFDb"
   },
   "outputs": [],
   "source": [
    "loans = pd.read_csv(\"loans.csv\")\n",
    "emotions_20 = pd.read_csv(\"emotion_score_2020.csv\")\n",
    "emotions_old = pd.read_csv(\"emotion_score.csv\")\n",
    "field_partner = pd.read_csv(\"field_partner_info.csv\")"
   ]
  },
  {
   "cell_type": "code",
   "execution_count": null,
   "metadata": {
    "colab": {
     "base_uri": "https://localhost:8080/"
    },
    "id": "QXWxF0UsQFDe",
    "outputId": "a780eeaa-462c-4b95-a1a0-8e35b87e7924"
   },
   "outputs": [
    {
     "data": {
      "text/plain": [
       "STATUS\n",
       "expired          90586\n",
       "fundRaising       5599\n",
       "funded         1846044\n",
       "refunded          8895\n",
       "Name: STATUS, dtype: int64"
      ]
     },
     "execution_count": 4,
     "metadata": {
      "tags": []
     },
     "output_type": "execute_result"
    }
   ],
   "source": [
    "loans.groupby(['STATUS'])['STATUS'].count()"
   ]
  },
  {
   "cell_type": "code",
   "execution_count": null,
   "metadata": {
    "id": "UdJ-IIU6aj17"
   },
   "outputs": [],
   "source": [
    "emotions = pd.concat([emotions, emotions_old], axis=0)"
   ]
  },
  {
   "cell_type": "code",
   "execution_count": null,
   "metadata": {
    "id": "Jq0ory73M8Rd"
   },
   "outputs": [],
   "source": [
    "emotions.drop_duplicates(subset=['LOAN_ID'], inplace=True)"
   ]
  },
  {
   "cell_type": "code",
   "execution_count": null,
   "metadata": {
    "id": "iS2omHJbQFDi"
   },
   "outputs": [],
   "source": [
    "#converting to date_time_format\n",
    "loans['POSTED_DATE'] = pd.to_datetime(loans['POSTED_TIME']).dt.date\n",
    "loans['PLANNED_EXPIRATION_DATE'] = pd.to_datetime(loans['PLANNED_EXPIRATION_TIME']).dt.date\n",
    "\n",
    "#filtering 2019 (train-val data) and 2020 loans (prediction horizon)\n",
    "loans_1920 = loans[(loans['POSTED_DATE'].astype(str)>'2019-01-01') & (loans['POSTED_DATE'].astype(str)<'2020-04-01')]\n",
    "\n",
    "#columns that need to be dopped\n",
    "loan_lender_drops = ['LOAN_NAME', 'DESCRIPTION', 'ORIGINAL_LANGUAGE','IMAGE_ID', 'POSTED_TIME', 'VIDEO_ID', 'ACTIVITY_NAME', 'LOAN_USE', 'COUNTRY_CODE', 'TOWN_NAME', 'CURRENCY_POLICY', 'CURRENCY_EXCHANGE_COVERAGE_RATE', 'CURRENCY', 'DISBURSE_TIME', 'RAISED_TIME', 'NUM_BULK_ENTRIES', 'BORROWER_NAMES', 'REPAYMENT_INTERVAL']\n",
    "loans_1920 = loans_1920.drop(columns=loan_lender_drops)\n",
    "\n",
    "#columns that need to be dropped after feature engineering\n",
    "drop_post_eng = ['DESCRIPTION_TRANSLATED', 'FUNDED_AMOUNT', 'FUNDED_RATIO', 'TAGS', 'DISTRIBUTION_MODEL', 'SECTOR_NAME', 'COUNTRY_NAME', 'PLANNED_EXPIRATION_DATE', 'PLANNED_EXPIRATION_TIME', 'BORROWER_GENDERS', 'DISTRIBUTION_MODEL']\n",
    "\n",
    "#feature engineering\n",
    "#create length of description\n",
    "loans_1920['LEN_DESCRIPTION'] = loans_1920['DESCRIPTION_TRANSLATED'].astype(str).apply(lambda x: len(x))\n",
    "#create funding ratio\n",
    "loans_1920['FUNDED_RATIO'] = loans_1920['FUNDED_AMOUNT']/loans_1920['LOAN_AMOUNT']\n",
    "\n",
    "#separate out underfunded and fully-funded loans\n",
    "loans_1920_underfunded = loans_1920[(loans_1920['FUNDED_RATIO']<1)]\n",
    "loans_1920_funded = loans_1920[loans_1920['FUNDED_RATIO']>=1]\n",
    "loans_1920_model =  pd.concat([loans_1920_underfunded, loans_1920_funded])\n",
    "\n",
    "#create length of tags\n",
    "loans_1920_model['LEN_TAGS'] = loans_1920_model['TAGS'].astype(str).apply(lambda x: len(x.split()))\n",
    "#re-initialize status as 1 for under-funded and 0 for fully funded\n",
    "loans_1920_model['STATUS'] = np.where(loans_1920_model['STATUS'] == \"expired\", 1,0)\n",
    "\n",
    "#create dummy variable for sector and country name\n",
    "loans_1920_model = pd.concat([loans_1920_model, pd.DataFrame(pd.get_dummies(loans_1920_model['SECTOR_NAME']))], axis=1)\n",
    "loans_1920_model = pd.concat([loans_2019_model, pd.DataFrame(pd.get_dummies(loans_1920_model['COUNTRY_NAME']))], axis=1)\n",
    "\n",
    "#feature for days to expire\n",
    "loans_1920_model['DAYS_TO_EXPIRE'] = (loans_1920_model['PLANNED_EXPIRATION_DATE'] - loans_1920_model['POSTED_DATE'])/np.timedelta64(1, 'D')"
   ]
  },
  {
   "cell_type": "code",
   "execution_count": null,
   "metadata": {
    "id": "8FEwkdqiQFD0"
   },
   "outputs": [],
   "source": [
    "#function to crcount number of borrowers from each gender\n",
    "def gender_count(x,val):\n",
    "  count = 0\n",
    "  if val == 'male':\n",
    "    for i in x:\n",
    "      if i=='male':\n",
    "        count = count + 1\n",
    "  elif val == 'female':\n",
    "    for i in x:\n",
    "      if i=='female':\n",
    "        count = count + 1\n",
    "  return count\n",
    "\n",
    "#create gender features\n",
    "loans_1920_model['MALE_BORROWERS'] = loans_1920_model['BORROWER_GENDERS'].astype(str).apply(lambda x: gender_count((x.split(\", \")), 'male'))\n",
    "loans_1920_model['FEMALE_BORROWERS'] = loans_1920_model['BORROWER_GENDERS'].astype(str).apply(lambda x: gender_count((x.split(\", \")), 'female'))\n",
    "\n",
    "#function to count number of picutres of borrowers\n",
    "def picture_count(x,val):\n",
    "  count = 0\n",
    "  if val == 'true':\n",
    "    for i in x:\n",
    "      if (i == 'true') or (i=='TRUE'):\n",
    "        count = count + 1\n",
    "  elif val == 'false':\n",
    "    for i in x:\n",
    "      if i=='false':\n",
    "        count = count + 1\n",
    "  return count\n",
    "\n",
    "#create features for # borrower pictures  \n",
    "loans_1920_model['BORROWER_PICTURED'] = np.where(loans_1920_model['BORROWER_PICTURED'].astype(str).apply(lambda x: picture_count((x.split()), 'true'))==1, 1,0)\n",
    "\n",
    "#only keep those loans with field partners\n",
    "loans_1920_model = loans_1920_model[loans_1920_model['DISTRIBUTION_MODEL']=='field_partner']\n",
    "\n",
    "#drop columns after feature engineering\n",
    "loans_1920_model_post_fe = loans_1920_model.drop(columns=drop_post_eng)"
   ]
  },
  {
   "cell_type": "code",
   "execution_count": null,
   "metadata": {
    "id": "RL5EvT4GQFD_"
   },
   "outputs": [],
   "source": [
    "#Dropping columns not required from field partner list\n",
    "partner_drop = ['kiva_borrowers', 'currency_exchange_loss_rate', 'fundraising_status', 'country', 'capital', 'official_language', 'population', 'avg_annual_income', 'labour_force', 'population_below_poverty_line', 'literacy_rate', 'infant_mortality_rate_per_1000', 'life_expectancy']\n",
    "drop_more = ['id', 'PARTNER_ID']\n",
    "field_partner = field_partner.drop(columns=partner_drop)\n",
    "\n",
    "#merging field partner info with loan list\n",
    "loans_1920_model_post_fe = loans_1920_model_post_fe.merge(field_partner, left_on = 'PARTNER_ID', right_on='id', how='left')\n",
    "\n",
    "#getting emotional scores for loan description\n",
    "loans_1920_model_post_fe = loans_1920_model_post_fe.merge(emotions[['LOAN_ID', 'emo_score']], on='LOAN_ID', how='left')\n",
    "loans_1920_model_post_fe = loans_1920_model_post_fe.drop(columns=drop_more)"
   ]
  },
  {
   "cell_type": "code",
   "execution_count": null,
   "metadata": {
    "id": "KNtAmy4dQFEI"
   },
   "outputs": [],
   "source": [
    "#create nan values - which can be later imputed with median values of that columns\n",
    "loans_1920_model_post_fe['partner_rating'].replace(['Inactive'], np.nan, inplace=True)\n",
    "loans_1920_model_post_fe['profitability_ROA'].replace([' N/A '], np.nan, inplace=True)\n",
    "loans_1920_model_post_fe['avg_loan_size'].replace([' N/A '], np.nan, inplace=True)\n",
    "loans_1920_model_post_fe['avg_cost_to_borrower'].replace([' N/A '], np.nan, inplace=True)"
   ]
  },
  {
   "cell_type": "code",
   "execution_count": null,
   "metadata": {
    "id": "4tXqJa92QFEK"
   },
   "outputs": [],
   "source": [
    "#removing special chars\n",
    "chars_to_remove = ['$', ',', ' months', ' deaths', '\\t', '\\n', '%', 'APR', 'PY',')', '(','  See note']\n",
    "missing_val_col = ['delinquency_rate', 'loans_at_risk_rate', 'time_on_kiva', 'total_loans', 'avg_cost_to_borrower', 'profitability_ROA', 'avg_loan_size', 'default_rate']\n",
    "for i in missing_val_col:\n",
    "  for j in chars_to_remove:\n",
    "    loans_1920_model_post_fe[i] = loans_2019_model_post_fe[i].str.replace(j, '')"
   ]
  },
  {
   "cell_type": "code",
   "execution_count": null,
   "metadata": {
    "id": "mkwsUZxPQFEM"
   },
   "outputs": [],
   "source": [
    "#creating binary feature for interest fees charged\n",
    "loans_1920_model_post_fe['are_interest_fees_charged'] = np.where(loans_1920_model_post_fe['are_interest_fees_charged']=='Yes', 1,0)"
   ]
  },
  {
   "cell_type": "code",
   "execution_count": null,
   "metadata": {
    "id": "Uv0wboVfQFEN"
   },
   "outputs": [],
   "source": [
    "#imputing null values with median values\n",
    "null_cols = ['time_on_kiva', 'avg_loan_size', 'emo_score', 'partner_rating', 'profitability_ROA', 'avg_cost_to_borrower', 'total_loans', 'delinquency_rate', 'loans_at_risk_rate', 'default_rate']\n",
    "for i in null_cols:\n",
    "    loans_1920_model_post_fe[i] = loans_1920_model_post_fe[i].fillna((loans_1920_model_post_fe[i].astype(float).median()))"
   ]
  },
  {
   "cell_type": "code",
   "execution_count": null,
   "metadata": {
    "colab": {
     "base_uri": "https://localhost:8080/",
     "height": 435
    },
    "id": "g-VkiFTbQFEL",
    "outputId": "21894481-3a33-419a-810a-1f18d0a9dc51"
   },
   "outputs": [
    {
     "data": {
      "text/html": [
       "<div>\n",
       "<style scoped>\n",
       "    .dataframe tbody tr th:only-of-type {\n",
       "        vertical-align: middle;\n",
       "    }\n",
       "\n",
       "    .dataframe tbody tr th {\n",
       "        vertical-align: top;\n",
       "    }\n",
       "\n",
       "    .dataframe thead th {\n",
       "        text-align: right;\n",
       "    }\n",
       "</style>\n",
       "<table border=\"1\" class=\"dataframe\">\n",
       "  <thead>\n",
       "    <tr style=\"text-align: right;\">\n",
       "      <th></th>\n",
       "      <th>0</th>\n",
       "    </tr>\n",
       "  </thead>\n",
       "  <tbody>\n",
       "    <tr>\n",
       "      <th>LOAN_ID</th>\n",
       "      <td>0</td>\n",
       "    </tr>\n",
       "    <tr>\n",
       "      <th>Tajikistan</th>\n",
       "      <td>0</td>\n",
       "    </tr>\n",
       "    <tr>\n",
       "      <th>Sierra Leone</th>\n",
       "      <td>0</td>\n",
       "    </tr>\n",
       "    <tr>\n",
       "      <th>Senegal</th>\n",
       "      <td>0</td>\n",
       "    </tr>\n",
       "    <tr>\n",
       "      <th>Samoa</th>\n",
       "      <td>0</td>\n",
       "    </tr>\n",
       "    <tr>\n",
       "      <th>Rwanda</th>\n",
       "      <td>0</td>\n",
       "    </tr>\n",
       "    <tr>\n",
       "      <th>Puerto Rico</th>\n",
       "      <td>0</td>\n",
       "    </tr>\n",
       "    <tr>\n",
       "      <th>Philippines</th>\n",
       "      <td>0</td>\n",
       "    </tr>\n",
       "    <tr>\n",
       "      <th>Peru</th>\n",
       "      <td>0</td>\n",
       "    </tr>\n",
       "    <tr>\n",
       "      <th>Paraguay</th>\n",
       "      <td>0</td>\n",
       "    </tr>\n",
       "    <tr>\n",
       "      <th>Papua New Guinea</th>\n",
       "      <td>0</td>\n",
       "    </tr>\n",
       "    <tr>\n",
       "      <th>Panama</th>\n",
       "      <td>0</td>\n",
       "    </tr>\n",
       "    <tr>\n",
       "      <th>Palestine</th>\n",
       "      <td>0</td>\n",
       "    </tr>\n",
       "  </tbody>\n",
       "</table>\n",
       "</div>"
      ],
      "text/plain": [
       "                  0\n",
       "LOAN_ID           0\n",
       "Tajikistan        0\n",
       "Sierra Leone      0\n",
       "Senegal           0\n",
       "Samoa             0\n",
       "Rwanda            0\n",
       "Puerto Rico       0\n",
       "Philippines       0\n",
       "Peru              0\n",
       "Paraguay          0\n",
       "Papua New Guinea  0\n",
       "Panama            0\n",
       "Palestine         0"
      ]
     },
     "execution_count": 44,
     "metadata": {
      "tags": []
     },
     "output_type": "execute_result"
    }
   ],
   "source": [
    "#check if there are any more nan values\n",
    "pd.DataFrame(loans_2019_model_post_fe.isnull().sum()).sort_values(by=0, ascending=False).head(13)"
   ]
  },
  {
   "cell_type": "code",
   "execution_count": null,
   "metadata": {
    "id": "qc9i04DFyne8"
   },
   "outputs": [],
   "source": [
    "#filtering out 2019 values - train+val\n",
    "df_2019 = loans_1920_model_post_fe[(loans_1920_model_post_fe['POSTED_DATE'].astype(str)<'2020-01-01')]\n",
    "\n",
    "#saving as csv\n",
    "df_2019.to_csv('train_2019.csv')\n",
    "\n",
    "#filtering out 2020 values - prediction horizon\n",
    "df_2020_q1 = loans_1920_model_post_fe[(loans_1920_model_post_fe['POSTED_DATE'].astype(str)>'2019-12-31') & (loans_1920_model_post_fe['POSTED_DATE'].astype(str)<'2020-04-01')]\n",
    "df_2020_q1.drop_duplicates(subset=['LOAN_ID'], inplace=True)\n",
    "#saving as csv\n",
    "df_2020_q1.to_csv('test_2020.csv')"
   ]
  }
 ],
 "metadata": {
  "colab": {
   "collapsed_sections": [],
   "name": "Pre-pro-feature-extract.ipynb",
   "provenance": []
  },
  "kernelspec": {
   "display_name": "Python 3",
   "language": "python",
   "name": "python3"
  },
  "language_info": {
   "codemirror_mode": {
    "name": "ipython",
    "version": 3
   },
   "file_extension": ".py",
   "mimetype": "text/x-python",
   "name": "python",
   "nbconvert_exporter": "python",
   "pygments_lexer": "ipython3",
   "version": "3.8.3"
  }
 },
 "nbformat": 4,
 "nbformat_minor": 1
}
