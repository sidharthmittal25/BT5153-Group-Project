{
 "cells": [
  {
   "cell_type": "markdown",
   "metadata": {
    "id": "V8DN-1awsNTW"
   },
   "source": [
    "# Model Building (continent) - random oversampling"
   ]
  },
  {
   "cell_type": "code",
   "execution_count": 42,
   "metadata": {
    "id": "x-F08Qa2fOgd"
   },
   "outputs": [],
   "source": [
    "import pandas as pd\n",
    "import numpy as np\n",
    "import matplotlib.pyplot as plt\n",
    "import seaborn as sns\n",
    "import datetime as dt\n",
    "\n",
    "import tensorflow as tf\n",
    "from tensorflow import keras\n",
    "from keras.models import Sequential\n",
    "from keras.layers import Dense\n",
    "from keras.layers import Dropout\n",
    "from keras.layers.normalization import BatchNormalization\n",
    "from sklearn.model_selection import train_test_split\n",
    "from sklearn.metrics import classification_report\n",
    "from sklearn.metrics import roc_auc_score"
   ]
  },
  {
   "cell_type": "code",
   "execution_count": 43,
   "metadata": {
    "id": "yox97PmsTOkh"
   },
   "outputs": [],
   "source": [
    "df_continent = pd.read_csv(\"df_continent_3.csv\")"
   ]
  },
  {
   "cell_type": "code",
   "execution_count": 45,
   "metadata": {
    "id": "NJXZlU5YTWmB"
   },
   "outputs": [],
   "source": [
    "df_continent.drop(columns=['POSTED_DATE'], inplace=True)"
   ]
  },
  {
   "cell_type": "code",
   "execution_count": 39,
   "metadata": {},
   "outputs": [
    {
     "data": {
      "text/plain": [
       "Index(['LOAN_AMOUNT', 'STATUS', 'LENDER_TERM', 'NUM_LENDERS_TOTAL',\n",
       "       'NUM_JOURNAL_ENTRIES', 'BORROWER_PICTURED', 'LEN_DESCRIPTION',\n",
       "       'LEN_TAGS', 'Agriculture', 'Arts', 'Clothing', 'Construction',\n",
       "       'Education', 'Entertainment', 'Food', 'Health', 'Housing',\n",
       "       'Manufacturing', 'Personal Use', 'Retail', 'Services', 'Transportation',\n",
       "       'Wholesale', 'DAYS_TO_EXPIRE', 'MALE_BORROWERS', 'FEMALE_BORROWERS',\n",
       "       'partner_rating', 'time_on_kiva', 'total_loans',\n",
       "       'are_interest_fees_charged', 'avg_cost_to_borrower',\n",
       "       'profitability_ROA', 'avg_loan_size', 'delinquency_rate',\n",
       "       'loans_at_risk_rate', 'default_rate', 'emo_score', 'Africa', 'Asia',\n",
       "       'North America', 'Europe', 'South America', 'Oceania'],\n",
       "      dtype='object')"
      ]
     },
     "execution_count": 39,
     "metadata": {},
     "output_type": "execute_result"
    }
   ],
   "source": [
    "df_continent.columns"
   ]
  },
  {
   "cell_type": "code",
   "execution_count": 46,
   "metadata": {
    "id": "5cHq7rixT1vU"
   },
   "outputs": [],
   "source": [
    "X = df_continent.drop(columns=['STATUS'])\n",
    "Y = df_continent['STATUS']"
   ]
  },
  {
   "cell_type": "code",
   "execution_count": 69,
   "metadata": {
    "id": "GnVwps1UT8Gb"
   },
   "outputs": [],
   "source": [
    "X_train, X_test, y_train, y_test = train_test_split(X, Y, stratify = Y, test_size = 0.2, random_state=7)"
   ]
  },
  {
   "cell_type": "code",
   "execution_count": 70,
   "metadata": {
    "id": "K0caKXtBJmun"
   },
   "outputs": [],
   "source": [
    "X_train, X_val, y_train, y_val = train_test_split(X_train, y_train, stratify = y_train, test_size=0.2, random_state=7)"
   ]
  },
  {
   "cell_type": "code",
   "execution_count": 71,
   "metadata": {
    "colab": {
     "base_uri": "https://localhost:8080/"
    },
    "id": "qmhGp-7RjAae",
    "outputId": "d78f00da-c6ab-41b7-d1f2-b7cef963971d"
   },
   "outputs": [
    {
     "name": "stderr",
     "output_type": "stream",
     "text": [
      "/usr/local/lib/python3.7/dist-packages/sklearn/utils/deprecation.py:87: FutureWarning: Function safe_indexing is deprecated; safe_indexing is deprecated in version 0.22 and will be removed in version 0.24.\n",
      "  warnings.warn(msg, category=FutureWarning)\n"
     ]
    }
   ],
   "source": [
    "from imblearn.over_sampling import SMOTE, RandomOverSampler\n",
    "# oversample = SMOTE()\n",
    "oversample = RandomOverSampler()\n",
    "X_train, y_train = oversample.fit_resample(X_train, y_train)"
   ]
  },
  {
   "cell_type": "code",
   "execution_count": 72,
   "metadata": {
    "id": "AWqcTa5FnhjP"
   },
   "outputs": [],
   "source": [
    "from sklearn.preprocessing import StandardScaler\n",
    "sc = StandardScaler()\n",
    "X_train = sc.fit_transform(X_train)\n",
    "X_test = sc.transform(X_test)\n",
    "X_val = sc.transform(X_val)"
   ]
  },
  {
   "cell_type": "code",
   "execution_count": 73,
   "metadata": {
    "id": "YURlwdg5QNqT"
   },
   "outputs": [],
   "source": [
    "from keras.utils import to_categorical\n",
    "y_train = to_categorical(y_train)\n",
    "y_val = to_categorical(y_val)"
   ]
  },
  {
   "cell_type": "code",
   "execution_count": 90,
   "metadata": {
    "id": "fKW3jp4s5bzz"
   },
   "outputs": [],
   "source": [
    "from tensorflow.keras import Sequential, Input\n",
    "from tensorflow.keras.layers import Dense, Dropout\n",
    "\n",
    "input_nodes = X_train.shape[1]\n",
    "output_nodes = 2\n",
    "\n",
    "model = Sequential()\n",
    "model.add(Input((input_nodes,)))\n",
    "model.add(Dense(512, activation=\"relu\"))\n",
    "model.add(Dropout(0.5))\n",
    "model.add(Dense(256, activation=\"relu\"))\n",
    "model.add(Dropout(0.5))\n",
    "model.add(Dense(128, activation=\"relu\"))\n",
    "model.add(Dropout(0.5))\n",
    "model.add(Dense(64, activation=\"relu\"))\n",
    "model.add(Dense(output_nodes, activation=\"softmax\"))\n",
    "\n",
    "optimizer = keras.optimizers.Adam(lr=0.0001)\n",
    "\n",
    "model.compile(optimizer=optimizer,loss='categorical_crossentropy',metrics=['accuracy'])\n",
    "validate=True"
   ]
  },
  {
   "cell_type": "code",
   "execution_count": 53,
   "metadata": {
    "colab": {
     "base_uri": "https://localhost:8080/"
    },
    "id": "fZB4kRvhK_T0",
    "outputId": "a2b58619-7c0a-41f4-853c-76c2f00f5829"
   },
   "outputs": [
    {
     "name": "stdout",
     "output_type": "stream",
     "text": [
      "Model: \"sequential\"\n",
      "_________________________________________________________________\n",
      "Layer (type)                 Output Shape              Param #   \n",
      "=================================================================\n",
      "dense (Dense)                (None, 512)               22016     \n",
      "_________________________________________________________________\n",
      "dense_1 (Dense)              (None, 256)               131328    \n",
      "_________________________________________________________________\n",
      "dropout (Dropout)            (None, 256)               0         \n",
      "_________________________________________________________________\n",
      "dense_2 (Dense)              (None, 128)               32896     \n",
      "_________________________________________________________________\n",
      "dense_3 (Dense)              (None, 64)                8256      \n",
      "_________________________________________________________________\n",
      "dense_4 (Dense)              (None, 2)                 130       \n",
      "=================================================================\n",
      "Total params: 194,626\n",
      "Trainable params: 194,626\n",
      "Non-trainable params: 0\n",
      "_________________________________________________________________\n"
     ]
    }
   ],
   "source": [
    "model.summary()"
   ]
  },
  {
   "cell_type": "code",
   "execution_count": 91,
   "metadata": {
    "colab": {
     "base_uri": "https://localhost:8080/"
    },
    "id": "M8QCRpUrELOB",
    "outputId": "a3cb5fcc-8315-47eb-c722-02ee9f71af90"
   },
   "outputs": [
    {
     "name": "stdout",
     "output_type": "stream",
     "text": [
      "Epoch 1/50\n",
      "2031/2031 [==============================] - 19s 9ms/step - loss: 0.5225 - accuracy: 0.7230 - val_loss: 0.2562 - val_accuracy: 0.8809\n",
      "Epoch 2/50\n",
      "2031/2031 [==============================] - 18s 9ms/step - loss: 0.2713 - accuracy: 0.8905 - val_loss: 0.2216 - val_accuracy: 0.9056\n",
      "Epoch 3/50\n",
      "2031/2031 [==============================] - 18s 9ms/step - loss: 0.2163 - accuracy: 0.9159 - val_loss: 0.1888 - val_accuracy: 0.9255\n",
      "Epoch 4/50\n",
      "2031/2031 [==============================] - 18s 9ms/step - loss: 0.1863 - accuracy: 0.9278 - val_loss: 0.1942 - val_accuracy: 0.9252\n",
      "Epoch 5/50\n",
      "2031/2031 [==============================] - 18s 9ms/step - loss: 0.1704 - accuracy: 0.9354 - val_loss: 0.1749 - val_accuracy: 0.9343\n",
      "Epoch 6/50\n",
      "2031/2031 [==============================] - 19s 9ms/step - loss: 0.1600 - accuracy: 0.9392 - val_loss: 0.1760 - val_accuracy: 0.9332\n",
      "Epoch 7/50\n",
      "2031/2031 [==============================] - 18s 9ms/step - loss: 0.1503 - accuracy: 0.9434 - val_loss: 0.1769 - val_accuracy: 0.9328\n",
      "Epoch 8/50\n",
      "2031/2031 [==============================] - 18s 9ms/step - loss: 0.1496 - accuracy: 0.9445 - val_loss: 0.1676 - val_accuracy: 0.9380\n",
      "Epoch 9/50\n",
      "2031/2031 [==============================] - 18s 9ms/step - loss: 0.1454 - accuracy: 0.9449 - val_loss: 0.1601 - val_accuracy: 0.9381\n",
      "Epoch 10/50\n",
      "2031/2031 [==============================] - 18s 9ms/step - loss: 0.1384 - accuracy: 0.9484 - val_loss: 0.1654 - val_accuracy: 0.9361\n",
      "Epoch 11/50\n",
      "2031/2031 [==============================] - 18s 9ms/step - loss: 0.1341 - accuracy: 0.9500 - val_loss: 0.1610 - val_accuracy: 0.9372\n",
      "Epoch 12/50\n",
      "2031/2031 [==============================] - 18s 9ms/step - loss: 0.1338 - accuracy: 0.9502 - val_loss: 0.1613 - val_accuracy: 0.9358\n",
      "Epoch 13/50\n",
      "2031/2031 [==============================] - 18s 9ms/step - loss: 0.1327 - accuracy: 0.9506 - val_loss: 0.1512 - val_accuracy: 0.9382\n",
      "Epoch 14/50\n",
      "2031/2031 [==============================] - 18s 9ms/step - loss: 0.1309 - accuracy: 0.9516 - val_loss: 0.1506 - val_accuracy: 0.9390\n",
      "Epoch 15/50\n",
      "2031/2031 [==============================] - 18s 9ms/step - loss: 0.1277 - accuracy: 0.9524 - val_loss: 0.1475 - val_accuracy: 0.9388\n",
      "Epoch 16/50\n",
      "2031/2031 [==============================] - 18s 9ms/step - loss: 0.1252 - accuracy: 0.9541 - val_loss: 0.1468 - val_accuracy: 0.9390\n",
      "Epoch 17/50\n",
      "2031/2031 [==============================] - 18s 9ms/step - loss: 0.1241 - accuracy: 0.9534 - val_loss: 0.1523 - val_accuracy: 0.9375\n",
      "Epoch 18/50\n",
      "2031/2031 [==============================] - 18s 9ms/step - loss: 0.1210 - accuracy: 0.9557 - val_loss: 0.1542 - val_accuracy: 0.9367\n",
      "Epoch 19/50\n",
      "2031/2031 [==============================] - 19s 9ms/step - loss: 0.1206 - accuracy: 0.9554 - val_loss: 0.1466 - val_accuracy: 0.9381\n",
      "Epoch 20/50\n",
      "2031/2031 [==============================] - 19s 9ms/step - loss: 0.1210 - accuracy: 0.9552 - val_loss: 0.1518 - val_accuracy: 0.9371\n",
      "Epoch 21/50\n",
      "2031/2031 [==============================] - 19s 9ms/step - loss: 0.1179 - accuracy: 0.9568 - val_loss: 0.1423 - val_accuracy: 0.9391\n",
      "Epoch 22/50\n",
      "2031/2031 [==============================] - 18s 9ms/step - loss: 0.1151 - accuracy: 0.9579 - val_loss: 0.1493 - val_accuracy: 0.9368\n",
      "Epoch 23/50\n",
      "2031/2031 [==============================] - 19s 9ms/step - loss: 0.1143 - accuracy: 0.9579 - val_loss: 0.1426 - val_accuracy: 0.9398\n",
      "Epoch 24/50\n",
      "2031/2031 [==============================] - 18s 9ms/step - loss: 0.1134 - accuracy: 0.9584 - val_loss: 0.1473 - val_accuracy: 0.9358\n",
      "Epoch 25/50\n",
      "2031/2031 [==============================] - 19s 9ms/step - loss: 0.1135 - accuracy: 0.9578 - val_loss: 0.1467 - val_accuracy: 0.9359\n",
      "Epoch 26/50\n",
      "2031/2031 [==============================] - 19s 9ms/step - loss: 0.1121 - accuracy: 0.9588 - val_loss: 0.1495 - val_accuracy: 0.9375\n",
      "Epoch 27/50\n",
      "2031/2031 [==============================] - 19s 9ms/step - loss: 0.1124 - accuracy: 0.9584 - val_loss: 0.1370 - val_accuracy: 0.9399\n",
      "Epoch 28/50\n",
      "2031/2031 [==============================] - 19s 9ms/step - loss: 0.1106 - accuracy: 0.9595 - val_loss: 0.1418 - val_accuracy: 0.9373\n",
      "Epoch 29/50\n",
      "2031/2031 [==============================] - 19s 9ms/step - loss: 0.1101 - accuracy: 0.9597 - val_loss: 0.1380 - val_accuracy: 0.9392\n",
      "Epoch 30/50\n",
      "2031/2031 [==============================] - 19s 9ms/step - loss: 0.1071 - accuracy: 0.9611 - val_loss: 0.1365 - val_accuracy: 0.9399\n",
      "Epoch 31/50\n",
      "2031/2031 [==============================] - 19s 9ms/step - loss: 0.1074 - accuracy: 0.9606 - val_loss: 0.1334 - val_accuracy: 0.9405\n",
      "Epoch 32/50\n",
      "2031/2031 [==============================] - 19s 9ms/step - loss: 0.1085 - accuracy: 0.9603 - val_loss: 0.1417 - val_accuracy: 0.9389\n",
      "Epoch 33/50\n",
      "2031/2031 [==============================] - 19s 9ms/step - loss: 0.1060 - accuracy: 0.9615 - val_loss: 0.1341 - val_accuracy: 0.9402\n",
      "Epoch 34/50\n",
      "2031/2031 [==============================] - 19s 9ms/step - loss: 0.1049 - accuracy: 0.9623 - val_loss: 0.1327 - val_accuracy: 0.9398\n",
      "Epoch 35/50\n",
      "2031/2031 [==============================] - 19s 9ms/step - loss: 0.1049 - accuracy: 0.9622 - val_loss: 0.1350 - val_accuracy: 0.9402\n",
      "Epoch 36/50\n",
      "2031/2031 [==============================] - 19s 9ms/step - loss: 0.1028 - accuracy: 0.9629 - val_loss: 0.1275 - val_accuracy: 0.9430\n",
      "Epoch 37/50\n",
      "2031/2031 [==============================] - 19s 9ms/step - loss: 0.1026 - accuracy: 0.9632 - val_loss: 0.1315 - val_accuracy: 0.9432\n",
      "Epoch 38/50\n",
      "2031/2031 [==============================] - 19s 9ms/step - loss: 0.1012 - accuracy: 0.9642 - val_loss: 0.1306 - val_accuracy: 0.9432\n",
      "Epoch 39/50\n",
      "2031/2031 [==============================] - 19s 9ms/step - loss: 0.1014 - accuracy: 0.9637 - val_loss: 0.1298 - val_accuracy: 0.9431\n",
      "Epoch 40/50\n",
      "2031/2031 [==============================] - 19s 9ms/step - loss: 0.1018 - accuracy: 0.9639 - val_loss: 0.1331 - val_accuracy: 0.9418\n",
      "Epoch 41/50\n",
      "2031/2031 [==============================] - 19s 9ms/step - loss: 0.1003 - accuracy: 0.9645 - val_loss: 0.1314 - val_accuracy: 0.9446\n",
      "Epoch 42/50\n",
      "2031/2031 [==============================] - 19s 9ms/step - loss: 0.0988 - accuracy: 0.9651 - val_loss: 0.1282 - val_accuracy: 0.9441\n",
      "Epoch 43/50\n",
      "2031/2031 [==============================] - 19s 9ms/step - loss: 0.0965 - accuracy: 0.9656 - val_loss: 0.1242 - val_accuracy: 0.9456\n",
      "Epoch 44/50\n",
      "2031/2031 [==============================] - 19s 9ms/step - loss: 0.0976 - accuracy: 0.9656 - val_loss: 0.1254 - val_accuracy: 0.9457\n",
      "Epoch 45/50\n",
      "2031/2031 [==============================] - 19s 9ms/step - loss: 0.0962 - accuracy: 0.9661 - val_loss: 0.1310 - val_accuracy: 0.9453\n",
      "Epoch 46/50\n",
      "2031/2031 [==============================] - 19s 9ms/step - loss: 0.0977 - accuracy: 0.9655 - val_loss: 0.1270 - val_accuracy: 0.9457\n",
      "Epoch 47/50\n",
      "2031/2031 [==============================] - 19s 9ms/step - loss: 0.0968 - accuracy: 0.9659 - val_loss: 0.1229 - val_accuracy: 0.9482\n",
      "Epoch 48/50\n",
      "2031/2031 [==============================] - 19s 9ms/step - loss: 0.0948 - accuracy: 0.9668 - val_loss: 0.1265 - val_accuracy: 0.9466\n",
      "Epoch 49/50\n",
      "2031/2031 [==============================] - 19s 9ms/step - loss: 0.0958 - accuracy: 0.9666 - val_loss: 0.1284 - val_accuracy: 0.9468\n",
      "Epoch 50/50\n",
      "2031/2031 [==============================] - 19s 9ms/step - loss: 0.0958 - accuracy: 0.9667 - val_loss: 0.1277 - val_accuracy: 0.9465\n"
     ]
    }
   ],
   "source": [
    "history = model.fit(X_train,\n",
    "        y_train,\n",
    "        batch_size=128,\n",
    "        epochs=50,\n",
    "        validation_data=(X_val, y_val) if validate else None,\n",
    "        verbose=1)"
   ]
  },
  {
   "cell_type": "code",
   "execution_count": 92,
   "metadata": {
    "id": "iPL1HggYSqLZ"
   },
   "outputs": [],
   "source": [
    "y_test_cat = to_categorical(y_test)\n",
    "y_pred = model.test_on_batch(X_test, y_test_cat)"
   ]
  },
  {
   "cell_type": "code",
   "execution_count": 93,
   "metadata": {
    "colab": {
     "base_uri": "https://localhost:8080/"
    },
    "id": "ZG5F2mY8CW-_",
    "outputId": "0910b96e-2271-435a-ab84-ca22f6c897d6"
   },
   "outputs": [
    {
     "name": "stdout",
     "output_type": "stream",
     "text": [
      "682/682 [==============================] - 1s 2ms/step\n"
     ]
    }
   ],
   "source": [
    "y_pred = model.predict(X_test, batch_size=64, verbose=1)\n",
    "y_pred_bool = np.argmax(y_pred, axis=1)"
   ]
  },
  {
   "cell_type": "code",
   "execution_count": 94,
   "metadata": {
    "id": "Ehvby65eE263"
   },
   "outputs": [],
   "source": [
    "y_pred_bool = to_categorical(y_pred_bool)"
   ]
  },
  {
   "cell_type": "code",
   "execution_count": 95,
   "metadata": {
    "colab": {
     "base_uri": "https://localhost:8080/"
    },
    "id": "KuKxMyzOC6JG",
    "outputId": "91705d87-5ddd-471b-cf6d-86ce8f4d10d9"
   },
   "outputs": [
    {
     "name": "stdout",
     "output_type": "stream",
     "text": [
      "              precision    recall  f1-score   support\n",
      "\n",
      "           0       1.00      0.95      0.97     40602\n",
      "           1       0.56      0.95      0.71      3011\n",
      "\n",
      "   micro avg       0.95      0.95      0.95     43613\n",
      "   macro avg       0.78      0.95      0.84     43613\n",
      "weighted avg       0.97      0.95      0.95     43613\n",
      " samples avg       0.95      0.95      0.95     43613\n",
      "\n"
     ]
    }
   ],
   "source": [
    "print(classification_report(y_test_cat, y_pred_bool))"
   ]
  },
  {
   "cell_type": "code",
   "execution_count": 103,
   "metadata": {
    "colab": {
     "base_uri": "https://localhost:8080/"
    },
    "id": "ABqwFLWPrMfo",
    "outputId": "f362a270-863c-42d2-9bc8-e5a6b396070a"
   },
   "outputs": [
    {
     "data": {
      "text/plain": [
       "array([0.94914878, 0.94914878])"
      ]
     },
     "execution_count": 103,
     "metadata": {
      "tags": []
     },
     "output_type": "execute_result"
    }
   ],
   "source": [
    "roc_auc_score(y_test_cat, y_pred_bool, average=None)"
   ]
  },
  {
   "cell_type": "code",
   "execution_count": 96,
   "metadata": {
    "colab": {
     "base_uri": "https://localhost:8080/",
     "height": 295
    },
    "id": "3NPlp65t-GUD",
    "outputId": "9122cec6-f8f6-4692-c986-4893a425e02e"
   },
   "outputs": [
    {
     "data": {
      "image/png": "[encoded data removed]",
      "text/plain": [
       "<Figure size 432x288 with 1 Axes>"
      ]
     },
     "metadata": {
      "needs_background": "light",
      "tags": []
     },
     "output_type": "display_data"
    }
   ],
   "source": [
    "plt.plot(history.history['loss'])\n",
    "plt.plot(history.history['val_loss'])\n",
    "plt.title('model loss')\n",
    "plt.ylabel('loss')\n",
    "plt.xlabel('epoch')\n",
    "plt.legend(['train', 'val'], loc='upper left')\n",
    "plt.show()"
   ]
  },
  {
   "cell_type": "code",
   "execution_count": 97,
   "metadata": {
    "colab": {
     "base_uri": "https://localhost:8080/",
     "height": 295
    },
    "id": "E4fxINZa-YL9",
    "outputId": "07fa8f2e-cbaa-4203-806a-1e1901a97e27"
   },
   "outputs": [
    {
     "data": {
      "image/png": "[encoded data removed]",
      "text/plain": [
       "<Figure size 432x288 with 1 Axes>"
      ]
     },
     "metadata": {
      "needs_background": "light",
      "tags": []
     },
     "output_type": "display_data"
    }
   ],
   "source": [
    "plt.plot(history.history['accuracy'])\n",
    "plt.plot(history.history['val_accuracy'])\n",
    "plt.title('model accuracy')\n",
    "plt.ylabel('accuracy')\n",
    "plt.xlabel('epoch')\n",
    "plt.legend(['train', 'val'], loc='upper left')\n",
    "plt.show()"
   ]
  },
  {
   "cell_type": "markdown",
   "metadata": {
    "id": "eVvEPIWYr2Js"
   },
   "source": [
    "# Model Building (continent) - No Sampling"
   ]
  },
  {
   "cell_type": "code",
   "execution_count": 2,
   "metadata": {
    "id": "Zu3M1OCXr2Jx"
   },
   "outputs": [],
   "source": [
    "df_continent = pd.read_csv(\"df_continent_3.csv\")"
   ]
  },
  {
   "cell_type": "code",
   "execution_count": 30,
   "metadata": {},
   "outputs": [
    {
     "data": {
      "text/html": [
       "<div>\n",
       "<style scoped>\n",
       "    .dataframe tbody tr th:only-of-type {\n",
       "        vertical-align: middle;\n",
       "    }\n",
       "\n",
       "    .dataframe tbody tr th {\n",
       "        vertical-align: top;\n",
       "    }\n",
       "\n",
       "    .dataframe thead th {\n",
       "        text-align: right;\n",
       "    }\n",
       "</style>\n",
       "<table border=\"1\" class=\"dataframe\">\n",
       "  <thead>\n",
       "    <tr style=\"text-align: right;\">\n",
       "      <th></th>\n",
       "      <th>LOAN_AMOUNT</th>\n",
       "      <th>STATUS</th>\n",
       "      <th>LENDER_TERM</th>\n",
       "      <th>NUM_LENDERS_TOTAL</th>\n",
       "      <th>NUM_JOURNAL_ENTRIES</th>\n",
       "      <th>BORROWER_PICTURED</th>\n",
       "      <th>LEN_DESCRIPTION</th>\n",
       "      <th>LEN_TAGS</th>\n",
       "      <th>Agriculture</th>\n",
       "      <th>Arts</th>\n",
       "      <th>...</th>\n",
       "      <th>delinquency_rate</th>\n",
       "      <th>loans_at_risk_rate</th>\n",
       "      <th>default_rate</th>\n",
       "      <th>emo_score</th>\n",
       "      <th>Africa</th>\n",
       "      <th>Asia</th>\n",
       "      <th>North America</th>\n",
       "      <th>Europe</th>\n",
       "      <th>South America</th>\n",
       "      <th>Oceania</th>\n",
       "    </tr>\n",
       "  </thead>\n",
       "  <tbody>\n",
       "    <tr>\n",
       "      <th>0</th>\n",
       "      <td>1100.0</td>\n",
       "      <td>1</td>\n",
       "      <td>14.0</td>\n",
       "      <td>4</td>\n",
       "      <td>1</td>\n",
       "      <td>1</td>\n",
       "      <td>617</td>\n",
       "      <td>8</td>\n",
       "      <td>0</td>\n",
       "      <td>0</td>\n",
       "      <td>...</td>\n",
       "      <td>31.72</td>\n",
       "      <td>45.79</td>\n",
       "      <td>0.61</td>\n",
       "      <td>0.7845</td>\n",
       "      <td>1</td>\n",
       "      <td>0</td>\n",
       "      <td>0</td>\n",
       "      <td>0</td>\n",
       "      <td>0</td>\n",
       "      <td>0</td>\n",
       "    </tr>\n",
       "    <tr>\n",
       "      <th>1</th>\n",
       "      <td>500.0</td>\n",
       "      <td>1</td>\n",
       "      <td>14.0</td>\n",
       "      <td>4</td>\n",
       "      <td>1</td>\n",
       "      <td>1</td>\n",
       "      <td>334</td>\n",
       "      <td>5</td>\n",
       "      <td>0</td>\n",
       "      <td>0</td>\n",
       "      <td>...</td>\n",
       "      <td>8.28</td>\n",
       "      <td>10.96</td>\n",
       "      <td>2.78</td>\n",
       "      <td>0.9423</td>\n",
       "      <td>1</td>\n",
       "      <td>0</td>\n",
       "      <td>0</td>\n",
       "      <td>0</td>\n",
       "      <td>0</td>\n",
       "      <td>0</td>\n",
       "    </tr>\n",
       "    <tr>\n",
       "      <th>2</th>\n",
       "      <td>550.0</td>\n",
       "      <td>1</td>\n",
       "      <td>14.0</td>\n",
       "      <td>1</td>\n",
       "      <td>1</td>\n",
       "      <td>1</td>\n",
       "      <td>592</td>\n",
       "      <td>6</td>\n",
       "      <td>0</td>\n",
       "      <td>0</td>\n",
       "      <td>...</td>\n",
       "      <td>31.43</td>\n",
       "      <td>48.43</td>\n",
       "      <td>0.70</td>\n",
       "      <td>0.9559</td>\n",
       "      <td>1</td>\n",
       "      <td>0</td>\n",
       "      <td>0</td>\n",
       "      <td>0</td>\n",
       "      <td>0</td>\n",
       "      <td>0</td>\n",
       "    </tr>\n",
       "    <tr>\n",
       "      <th>3</th>\n",
       "      <td>550.0</td>\n",
       "      <td>1</td>\n",
       "      <td>12.0</td>\n",
       "      <td>4</td>\n",
       "      <td>1</td>\n",
       "      <td>1</td>\n",
       "      <td>651</td>\n",
       "      <td>6</td>\n",
       "      <td>0</td>\n",
       "      <td>0</td>\n",
       "      <td>...</td>\n",
       "      <td>31.43</td>\n",
       "      <td>48.43</td>\n",
       "      <td>0.70</td>\n",
       "      <td>0.9571</td>\n",
       "      <td>1</td>\n",
       "      <td>0</td>\n",
       "      <td>0</td>\n",
       "      <td>0</td>\n",
       "      <td>0</td>\n",
       "      <td>0</td>\n",
       "    </tr>\n",
       "    <tr>\n",
       "      <th>4</th>\n",
       "      <td>600.0</td>\n",
       "      <td>1</td>\n",
       "      <td>20.0</td>\n",
       "      <td>18</td>\n",
       "      <td>1</td>\n",
       "      <td>1</td>\n",
       "      <td>466</td>\n",
       "      <td>6</td>\n",
       "      <td>0</td>\n",
       "      <td>0</td>\n",
       "      <td>...</td>\n",
       "      <td>5.97</td>\n",
       "      <td>8.59</td>\n",
       "      <td>1.25</td>\n",
       "      <td>0.9246</td>\n",
       "      <td>0</td>\n",
       "      <td>0</td>\n",
       "      <td>1</td>\n",
       "      <td>0</td>\n",
       "      <td>0</td>\n",
       "      <td>0</td>\n",
       "    </tr>\n",
       "    <tr>\n",
       "      <th>...</th>\n",
       "      <td>...</td>\n",
       "      <td>...</td>\n",
       "      <td>...</td>\n",
       "      <td>...</td>\n",
       "      <td>...</td>\n",
       "      <td>...</td>\n",
       "      <td>...</td>\n",
       "      <td>...</td>\n",
       "      <td>...</td>\n",
       "      <td>...</td>\n",
       "      <td>...</td>\n",
       "      <td>...</td>\n",
       "      <td>...</td>\n",
       "      <td>...</td>\n",
       "      <td>...</td>\n",
       "      <td>...</td>\n",
       "      <td>...</td>\n",
       "      <td>...</td>\n",
       "      <td>...</td>\n",
       "      <td>...</td>\n",
       "      <td>...</td>\n",
       "    </tr>\n",
       "    <tr>\n",
       "      <th>218059</th>\n",
       "      <td>250.0</td>\n",
       "      <td>0</td>\n",
       "      <td>8.0</td>\n",
       "      <td>10</td>\n",
       "      <td>1</td>\n",
       "      <td>1</td>\n",
       "      <td>732</td>\n",
       "      <td>6</td>\n",
       "      <td>1</td>\n",
       "      <td>0</td>\n",
       "      <td>...</td>\n",
       "      <td>1.44</td>\n",
       "      <td>2.01</td>\n",
       "      <td>0.00</td>\n",
       "      <td>0.9562</td>\n",
       "      <td>1</td>\n",
       "      <td>0</td>\n",
       "      <td>0</td>\n",
       "      <td>0</td>\n",
       "      <td>0</td>\n",
       "      <td>0</td>\n",
       "    </tr>\n",
       "    <tr>\n",
       "      <th>218060</th>\n",
       "      <td>1225.0</td>\n",
       "      <td>0</td>\n",
       "      <td>6.0</td>\n",
       "      <td>9</td>\n",
       "      <td>1</td>\n",
       "      <td>1</td>\n",
       "      <td>592</td>\n",
       "      <td>2</td>\n",
       "      <td>0</td>\n",
       "      <td>0</td>\n",
       "      <td>...</td>\n",
       "      <td>100.00</td>\n",
       "      <td>100.00</td>\n",
       "      <td>0.03</td>\n",
       "      <td>0.9081</td>\n",
       "      <td>0</td>\n",
       "      <td>0</td>\n",
       "      <td>0</td>\n",
       "      <td>0</td>\n",
       "      <td>1</td>\n",
       "      <td>0</td>\n",
       "    </tr>\n",
       "    <tr>\n",
       "      <th>218061</th>\n",
       "      <td>2925.0</td>\n",
       "      <td>0</td>\n",
       "      <td>13.0</td>\n",
       "      <td>90</td>\n",
       "      <td>1</td>\n",
       "      <td>1</td>\n",
       "      <td>923</td>\n",
       "      <td>6</td>\n",
       "      <td>1</td>\n",
       "      <td>0</td>\n",
       "      <td>...</td>\n",
       "      <td>1.46</td>\n",
       "      <td>2.57</td>\n",
       "      <td>0.00</td>\n",
       "      <td>0.8225</td>\n",
       "      <td>1</td>\n",
       "      <td>0</td>\n",
       "      <td>0</td>\n",
       "      <td>0</td>\n",
       "      <td>0</td>\n",
       "      <td>0</td>\n",
       "    </tr>\n",
       "    <tr>\n",
       "      <th>218062</th>\n",
       "      <td>500.0</td>\n",
       "      <td>0</td>\n",
       "      <td>14.0</td>\n",
       "      <td>20</td>\n",
       "      <td>2</td>\n",
       "      <td>1</td>\n",
       "      <td>611</td>\n",
       "      <td>6</td>\n",
       "      <td>1</td>\n",
       "      <td>0</td>\n",
       "      <td>...</td>\n",
       "      <td>5.97</td>\n",
       "      <td>8.59</td>\n",
       "      <td>1.25</td>\n",
       "      <td>0.9529</td>\n",
       "      <td>0</td>\n",
       "      <td>0</td>\n",
       "      <td>1</td>\n",
       "      <td>0</td>\n",
       "      <td>0</td>\n",
       "      <td>0</td>\n",
       "    </tr>\n",
       "    <tr>\n",
       "      <th>218063</th>\n",
       "      <td>650.0</td>\n",
       "      <td>0</td>\n",
       "      <td>9.0</td>\n",
       "      <td>23</td>\n",
       "      <td>1</td>\n",
       "      <td>1</td>\n",
       "      <td>899</td>\n",
       "      <td>9</td>\n",
       "      <td>1</td>\n",
       "      <td>0</td>\n",
       "      <td>...</td>\n",
       "      <td>0.00</td>\n",
       "      <td>0.00</td>\n",
       "      <td>0.94</td>\n",
       "      <td>0.8481</td>\n",
       "      <td>1</td>\n",
       "      <td>0</td>\n",
       "      <td>0</td>\n",
       "      <td>0</td>\n",
       "      <td>0</td>\n",
       "      <td>0</td>\n",
       "    </tr>\n",
       "  </tbody>\n",
       "</table>\n",
       "<p>218064 rows × 43 columns</p>\n",
       "</div>"
      ],
      "text/plain": [
       "        LOAN_AMOUNT  STATUS  LENDER_TERM  NUM_LENDERS_TOTAL  \\\n",
       "0            1100.0       1         14.0                  4   \n",
       "1             500.0       1         14.0                  4   \n",
       "2             550.0       1         14.0                  1   \n",
       "3             550.0       1         12.0                  4   \n",
       "4             600.0       1         20.0                 18   \n",
       "...             ...     ...          ...                ...   \n",
       "218059        250.0       0          8.0                 10   \n",
       "218060       1225.0       0          6.0                  9   \n",
       "218061       2925.0       0         13.0                 90   \n",
       "218062        500.0       0         14.0                 20   \n",
       "218063        650.0       0          9.0                 23   \n",
       "\n",
       "        NUM_JOURNAL_ENTRIES  BORROWER_PICTURED  LEN_DESCRIPTION  LEN_TAGS  \\\n",
       "0                         1                  1              617         8   \n",
       "1                         1                  1              334         5   \n",
       "2                         1                  1              592         6   \n",
       "3                         1                  1              651         6   \n",
       "4                         1                  1              466         6   \n",
       "...                     ...                ...              ...       ...   \n",
       "218059                    1                  1              732         6   \n",
       "218060                    1                  1              592         2   \n",
       "218061                    1                  1              923         6   \n",
       "218062                    2                  1              611         6   \n",
       "218063                    1                  1              899         9   \n",
       "\n",
       "        Agriculture  Arts  ...  delinquency_rate  loans_at_risk_rate  \\\n",
       "0                 0     0  ...             31.72               45.79   \n",
       "1                 0     0  ...              8.28               10.96   \n",
       "2                 0     0  ...             31.43               48.43   \n",
       "3                 0     0  ...             31.43               48.43   \n",
       "4                 0     0  ...              5.97                8.59   \n",
       "...             ...   ...  ...               ...                 ...   \n",
       "218059            1     0  ...              1.44                2.01   \n",
       "218060            0     0  ...            100.00              100.00   \n",
       "218061            1     0  ...              1.46                2.57   \n",
       "218062            1     0  ...              5.97                8.59   \n",
       "218063            1     0  ...              0.00                0.00   \n",
       "\n",
       "        default_rate  emo_score  Africa  Asia  North America  Europe  \\\n",
       "0               0.61     0.7845       1     0              0       0   \n",
       "1               2.78     0.9423       1     0              0       0   \n",
       "2               0.70     0.9559       1     0              0       0   \n",
       "3               0.70     0.9571       1     0              0       0   \n",
       "4               1.25     0.9246       0     0              1       0   \n",
       "...              ...        ...     ...   ...            ...     ...   \n",
       "218059          0.00     0.9562       1     0              0       0   \n",
       "218060          0.03     0.9081       0     0              0       0   \n",
       "218061          0.00     0.8225       1     0              0       0   \n",
       "218062          1.25     0.9529       0     0              1       0   \n",
       "218063          0.94     0.8481       1     0              0       0   \n",
       "\n",
       "        South America  Oceania  \n",
       "0                   0        0  \n",
       "1                   0        0  \n",
       "2                   0        0  \n",
       "3                   0        0  \n",
       "4                   0        0  \n",
       "...               ...      ...  \n",
       "218059              0        0  \n",
       "218060              1        0  \n",
       "218061              0        0  \n",
       "218062              0        0  \n",
       "218063              0        0  \n",
       "\n",
       "[218064 rows x 43 columns]"
      ]
     },
     "execution_count": 30,
     "metadata": {},
     "output_type": "execute_result"
    }
   ],
   "source": [
    "df_continent"
   ]
  },
  {
   "cell_type": "code",
   "execution_count": 3,
   "metadata": {
    "id": "WHSRU8qhr2Jz"
   },
   "outputs": [],
   "source": [
    "df_continent.drop(columns=['POSTED_DATE'], inplace=True)"
   ]
  },
  {
   "cell_type": "code",
   "execution_count": 4,
   "metadata": {
    "id": "oGgpuDiMr2J0"
   },
   "outputs": [],
   "source": [
    "X = df_continent.drop(columns=['STATUS'])\n",
    "Y = df_continent['STATUS']"
   ]
  },
  {
   "cell_type": "code",
   "execution_count": 5,
   "metadata": {
    "id": "ygifGcdwr2J1"
   },
   "outputs": [],
   "source": [
    "X_train, X_test, y_train, y_test = train_test_split(X, Y, stratify = Y, test_size = 0.2, random_state=7)"
   ]
  },
  {
   "cell_type": "code",
   "execution_count": 6,
   "metadata": {
    "id": "vKsdLqcGr2J2"
   },
   "outputs": [],
   "source": [
    "X_train, X_val, y_train, y_val = train_test_split(X_train, y_train, stratify = y_train, test_size=0.2, random_state=7)"
   ]
  },
  {
   "cell_type": "code",
   "execution_count": 7,
   "metadata": {
    "id": "PFNKnWjMr2J4"
   },
   "outputs": [],
   "source": [
    "sc = StandardScaler()\n",
    "X_train = sc.fit_transform(X_train)\n",
    "X_test = sc.transform(X_test)\n",
    "X_val = sc.transform(X_val)"
   ]
  },
  {
   "cell_type": "code",
   "execution_count": 8,
   "metadata": {
    "id": "HxHl1lTqr2J6"
   },
   "outputs": [],
   "source": [
    "y_train = to_categorical(y_train)\n",
    "y_val = to_categorical(y_val)"
   ]
  },
  {
   "cell_type": "code",
   "execution_count": 10,
   "metadata": {
    "id": "nN9hWswNr2J9"
   },
   "outputs": [],
   "source": [
    "from tensorflow.keras import Sequential, Input\n",
    "from tensorflow.keras.layers import Dense, Dropout\n",
    "\n",
    "input_nodes = X_train.shape[1]\n",
    "output_nodes = 2\n",
    "\n",
    "model = Sequential()\n",
    "model.add(Input((input_nodes,)))\n",
    "model.add(Dense(512, activation=\"relu\"))\n",
    "model.add(Dropout(0.5))\n",
    "model.add(Dense(256, activation=\"relu\"))\n",
    "model.add(Dropout(0.5))\n",
    "model.add(Dense(128, activation=\"relu\"))\n",
    "model.add(Dropout(0.5))\n",
    "model.add(Dense(64, activation=\"relu\"))\n",
    "model.add(Dense(output_nodes, activation=\"softmax\"))\n",
    "\n",
    "optimizer = keras.optimizers.Adam(lr=0.0001)\n",
    "\n",
    "model.compile(optimizer=optimizer,loss='categorical_crossentropy',metrics=['accuracy'])\n",
    "validate=True"
   ]
  },
  {
   "cell_type": "code",
   "execution_count": 11,
   "metadata": {
    "colab": {
     "base_uri": "https://localhost:8080/"
    },
    "id": "X66DfRWpr2KA",
    "outputId": "38c0d18b-04b5-48dd-8c0d-4414f5777840"
   },
   "outputs": [
    {
     "name": "stdout",
     "output_type": "stream",
     "text": [
      "Model: \"sequential\"\n",
      "_________________________________________________________________\n",
      "Layer (type)                 Output Shape              Param #   \n",
      "=================================================================\n",
      "dense (Dense)                (None, 512)               22016     \n",
      "_________________________________________________________________\n",
      "dropout (Dropout)            (None, 512)               0         \n",
      "_________________________________________________________________\n",
      "dense_1 (Dense)              (None, 256)               131328    \n",
      "_________________________________________________________________\n",
      "dropout_1 (Dropout)          (None, 256)               0         \n",
      "_________________________________________________________________\n",
      "dense_2 (Dense)              (None, 128)               32896     \n",
      "_________________________________________________________________\n",
      "dropout_2 (Dropout)          (None, 128)               0         \n",
      "_________________________________________________________________\n",
      "dense_3 (Dense)              (None, 64)                8256      \n",
      "_________________________________________________________________\n",
      "dense_4 (Dense)              (None, 2)                 130       \n",
      "=================================================================\n",
      "Total params: 194,626\n",
      "Trainable params: 194,626\n",
      "Non-trainable params: 0\n",
      "_________________________________________________________________\n"
     ]
    }
   ],
   "source": [
    "model.summary()"
   ]
  },
  {
   "cell_type": "code",
   "execution_count": 12,
   "metadata": {
    "colab": {
     "base_uri": "https://localhost:8080/"
    },
    "id": "iMCuD9r7r2KB",
    "outputId": "a1c1873a-1bbc-4657-d53a-b73017fed38e"
   },
   "outputs": [
    {
     "name": "stdout",
     "output_type": "stream",
     "text": [
      "Epoch 1/50\n",
      "1091/1091 [==============================] - 10s 9ms/step - loss: 0.2094 - accuracy: 0.9311 - val_loss: 0.1736 - val_accuracy: 0.9372\n",
      "Epoch 2/50\n",
      "1091/1091 [==============================] - 11s 10ms/step - loss: 0.1604 - accuracy: 0.9350 - val_loss: 0.1326 - val_accuracy: 0.9493\n",
      "Epoch 3/50\n",
      "1091/1091 [==============================] - 11s 10ms/step - loss: 0.1373 - accuracy: 0.9449 - val_loss: 0.1122 - val_accuracy: 0.9566\n",
      "Epoch 4/50\n",
      "1091/1091 [==============================] - 14s 12ms/step - loss: 0.1205 - accuracy: 0.9530 - val_loss: 0.0985 - val_accuracy: 0.9627\n",
      "Epoch 5/50\n",
      "1091/1091 [==============================] - 11s 10ms/step - loss: 0.1105 - accuracy: 0.9583 - val_loss: 0.0903 - val_accuracy: 0.9658\n",
      "Epoch 6/50\n",
      "1091/1091 [==============================] - 11s 10ms/step - loss: 0.1029 - accuracy: 0.9610 - val_loss: 0.0849 - val_accuracy: 0.9679\n",
      "Epoch 7/50\n",
      "1091/1091 [==============================] - 11s 10ms/step - loss: 0.0970 - accuracy: 0.9635 - val_loss: 0.0832 - val_accuracy: 0.9682\n",
      "Epoch 8/50\n",
      "1091/1091 [==============================] - 10s 10ms/step - loss: 0.0937 - accuracy: 0.9642 - val_loss: 0.0812 - val_accuracy: 0.9690\n",
      "Epoch 9/50\n",
      "1091/1091 [==============================] - 10s 9ms/step - loss: 0.0900 - accuracy: 0.9658 - val_loss: 0.0810 - val_accuracy: 0.9690\n",
      "Epoch 10/50\n",
      "1091/1091 [==============================] - 11s 10ms/step - loss: 0.0873 - accuracy: 0.9664 - val_loss: 0.0786 - val_accuracy: 0.9699\n",
      "Epoch 11/50\n",
      "1091/1091 [==============================] - 15s 14ms/step - loss: 0.0849 - accuracy: 0.9675 - val_loss: 0.0805 - val_accuracy: 0.9696\n",
      "Epoch 12/50\n",
      "1091/1091 [==============================] - 12s 11ms/step - loss: 0.0836 - accuracy: 0.9680 - val_loss: 0.0778 - val_accuracy: 0.9698\n",
      "Epoch 13/50\n",
      "1091/1091 [==============================] - 10s 9ms/step - loss: 0.0819 - accuracy: 0.9690 - val_loss: 0.0768 - val_accuracy: 0.9704\n",
      "Epoch 14/50\n",
      "1091/1091 [==============================] - 11s 10ms/step - loss: 0.0806 - accuracy: 0.9693 - val_loss: 0.0772 - val_accuracy: 0.9698\n",
      "Epoch 15/50\n",
      "1091/1091 [==============================] - 10s 10ms/step - loss: 0.0793 - accuracy: 0.9696 - val_loss: 0.0763 - val_accuracy: 0.9706\n",
      "Epoch 16/50\n",
      "1091/1091 [==============================] - 10s 10ms/step - loss: 0.0790 - accuracy: 0.9699 - val_loss: 0.0777 - val_accuracy: 0.9705\n",
      "Epoch 17/50\n",
      "1091/1091 [==============================] - 10s 9ms/step - loss: 0.0781 - accuracy: 0.9701 - val_loss: 0.0766 - val_accuracy: 0.9709\n",
      "Epoch 18/50\n",
      "1091/1091 [==============================] - 10s 9ms/step - loss: 0.0770 - accuracy: 0.9707 - val_loss: 0.0751 - val_accuracy: 0.9710\n",
      "Epoch 19/50\n",
      "1091/1091 [==============================] - 10s 9ms/step - loss: 0.0755 - accuracy: 0.9712 - val_loss: 0.0755 - val_accuracy: 0.9710\n",
      "Epoch 20/50\n",
      "1091/1091 [==============================] - 10s 9ms/step - loss: 0.0756 - accuracy: 0.9709 - val_loss: 0.0748 - val_accuracy: 0.9709\n",
      "Epoch 21/50\n",
      "1091/1091 [==============================] - 11s 10ms/step - loss: 0.0749 - accuracy: 0.9712 - val_loss: 0.0752 - val_accuracy: 0.9710\n",
      "Epoch 22/50\n",
      "1091/1091 [==============================] - 11s 10ms/step - loss: 0.0740 - accuracy: 0.9714 - val_loss: 0.0769 - val_accuracy: 0.9708\n",
      "Epoch 23/50\n",
      "1091/1091 [==============================] - 11s 10ms/step - loss: 0.0739 - accuracy: 0.9716 - val_loss: 0.0742 - val_accuracy: 0.9718\n",
      "Epoch 24/50\n",
      "1091/1091 [==============================] - 9s 9ms/step - loss: 0.0730 - accuracy: 0.9717 - val_loss: 0.0752 - val_accuracy: 0.9711\n",
      "Epoch 25/50\n",
      "1091/1091 [==============================] - 10s 9ms/step - loss: 0.0726 - accuracy: 0.9721 - val_loss: 0.0742 - val_accuracy: 0.9716\n",
      "Epoch 26/50\n",
      "1091/1091 [==============================] - 10s 9ms/step - loss: 0.0720 - accuracy: 0.9722 - val_loss: 0.0740 - val_accuracy: 0.9715\n",
      "Epoch 27/50\n",
      "1091/1091 [==============================] - 10s 9ms/step - loss: 0.0723 - accuracy: 0.9719 - val_loss: 0.0749 - val_accuracy: 0.9721\n",
      "Epoch 28/50\n",
      "1091/1091 [==============================] - 10s 9ms/step - loss: 0.0713 - accuracy: 0.9725 - val_loss: 0.0740 - val_accuracy: 0.9713\n",
      "Epoch 29/50\n",
      "1091/1091 [==============================] - 11s 10ms/step - loss: 0.0711 - accuracy: 0.9725 - val_loss: 0.0724 - val_accuracy: 0.9721\n",
      "Epoch 30/50\n",
      "1091/1091 [==============================] - 10s 9ms/step - loss: 0.0709 - accuracy: 0.9723 - val_loss: 0.0736 - val_accuracy: 0.9723\n",
      "Epoch 31/50\n",
      "1091/1091 [==============================] - 9s 9ms/step - loss: 0.0705 - accuracy: 0.9723 - val_loss: 0.0731 - val_accuracy: 0.9719\n",
      "Epoch 32/50\n",
      "1091/1091 [==============================] - 10s 9ms/step - loss: 0.0698 - accuracy: 0.9728 - val_loss: 0.0740 - val_accuracy: 0.9719\n",
      "Epoch 33/50\n",
      "1091/1091 [==============================] - 10s 9ms/step - loss: 0.0699 - accuracy: 0.9727 - val_loss: 0.0736 - val_accuracy: 0.9720\n",
      "Epoch 34/50\n",
      "1091/1091 [==============================] - 10s 9ms/step - loss: 0.0695 - accuracy: 0.9728 - val_loss: 0.0730 - val_accuracy: 0.9723\n",
      "Epoch 35/50\n",
      "1091/1091 [==============================] - 10s 9ms/step - loss: 0.0689 - accuracy: 0.9728 - val_loss: 0.0732 - val_accuracy: 0.9718\n",
      "Epoch 36/50\n",
      "1091/1091 [==============================] - 10s 9ms/step - loss: 0.0685 - accuracy: 0.9733 - val_loss: 0.0728 - val_accuracy: 0.9723\n",
      "Epoch 37/50\n",
      "1091/1091 [==============================] - 10s 9ms/step - loss: 0.0686 - accuracy: 0.9734 - val_loss: 0.0736 - val_accuracy: 0.9723\n",
      "Epoch 38/50\n",
      "1091/1091 [==============================] - 10s 9ms/step - loss: 0.0681 - accuracy: 0.9732 - val_loss: 0.0732 - val_accuracy: 0.9724\n",
      "Epoch 39/50\n",
      "1091/1091 [==============================] - 10s 10ms/step - loss: 0.0677 - accuracy: 0.9734 - val_loss: 0.0720 - val_accuracy: 0.9727\n",
      "Epoch 40/50\n",
      "1091/1091 [==============================] - 10s 9ms/step - loss: 0.0676 - accuracy: 0.9734 - val_loss: 0.0727 - val_accuracy: 0.9722\n",
      "Epoch 41/50\n",
      "1091/1091 [==============================] - 10s 9ms/step - loss: 0.0671 - accuracy: 0.9740 - val_loss: 0.0719 - val_accuracy: 0.9731\n",
      "Epoch 42/50\n",
      "1091/1091 [==============================] - 10s 9ms/step - loss: 0.0672 - accuracy: 0.9734 - val_loss: 0.0724 - val_accuracy: 0.9725\n",
      "Epoch 43/50\n",
      "1091/1091 [==============================] - 9s 9ms/step - loss: 0.0671 - accuracy: 0.9736 - val_loss: 0.0727 - val_accuracy: 0.9724\n",
      "Epoch 44/50\n",
      "1091/1091 [==============================] - 10s 9ms/step - loss: 0.0666 - accuracy: 0.9738 - val_loss: 0.0727 - val_accuracy: 0.9725\n",
      "Epoch 45/50\n",
      "1091/1091 [==============================] - 10s 9ms/step - loss: 0.0659 - accuracy: 0.9740 - val_loss: 0.0723 - val_accuracy: 0.9727\n",
      "Epoch 46/50\n",
      "1091/1091 [==============================] - 10s 9ms/step - loss: 0.0665 - accuracy: 0.9738 - val_loss: 0.0711 - val_accuracy: 0.9730\n",
      "Epoch 47/50\n",
      "1091/1091 [==============================] - 10s 9ms/step - loss: 0.0664 - accuracy: 0.9740 - val_loss: 0.0729 - val_accuracy: 0.9728\n",
      "Epoch 48/50\n",
      "1091/1091 [==============================] - 10s 9ms/step - loss: 0.0667 - accuracy: 0.9739 - val_loss: 0.0712 - val_accuracy: 0.9729\n",
      "Epoch 49/50\n",
      "1091/1091 [==============================] - 10s 9ms/step - loss: 0.0659 - accuracy: 0.9742 - val_loss: 0.0715 - val_accuracy: 0.9730\n",
      "Epoch 50/50\n",
      "1091/1091 [==============================] - 10s 9ms/step - loss: 0.0652 - accuracy: 0.9742 - val_loss: 0.0711 - val_accuracy: 0.9731\n"
     ]
    }
   ],
   "source": [
    "history = model.fit(X_train,\n",
    "        y_train,\n",
    "        batch_size=128,\n",
    "        epochs=50,\n",
    "        validation_data=(X_val, y_val) if validate else None,\n",
    "        verbose=1)"
   ]
  },
  {
   "cell_type": "code",
   "execution_count": 13,
   "metadata": {
    "id": "Lqf_qAuAr2KJ"
   },
   "outputs": [],
   "source": [
    "y_test_cat = to_categorical(y_test)\n",
    "y_pred = model.test_on_batch(X_test, y_test_cat)"
   ]
  },
  {
   "cell_type": "code",
   "execution_count": 24,
   "metadata": {},
   "outputs": [
    {
     "data": {
      "text/plain": [
       "(43613, 42)"
      ]
     },
     "execution_count": 24,
     "metadata": {},
     "output_type": "execute_result"
    }
   ],
   "source": [
    "X_test.shape"
   ]
  },
  {
   "cell_type": "code",
   "execution_count": 14,
   "metadata": {
    "colab": {
     "base_uri": "https://localhost:8080/"
    },
    "id": "tQXJ0RTdr2KK",
    "outputId": "ddf6aac9-e122-44b3-b66d-570be4e10990"
   },
   "outputs": [
    {
     "name": "stdout",
     "output_type": "stream",
     "text": [
      "  1/682 [..............................] - ETA: 0sWARNING:tensorflow:Callbacks method `on_predict_batch_begin` is slow compared to the batch time (batch time: 0.0000s vs `on_predict_batch_begin` time: 0.0040s). Check your callbacks.\n",
      "682/682 [==============================] - 3s 4ms/step\n"
     ]
    }
   ],
   "source": [
    "y_pred = model.predict(X_test, batch_size=64, verbose=1)\n",
    "y_pred_bool = np.argmax(y_pred, axis=1)"
   ]
  },
  {
   "cell_type": "code",
   "execution_count": 15,
   "metadata": {
    "id": "t_xH7Vd8r2KL"
   },
   "outputs": [],
   "source": [
    "y_pred_bool = to_categorical(y_pred_bool)"
   ]
  },
  {
   "cell_type": "code",
   "execution_count": 16,
   "metadata": {
    "colab": {
     "base_uri": "https://localhost:8080/"
    },
    "id": "LKejp9XNr2KM",
    "outputId": "4851370a-4b8d-4063-a84e-ed14b4c6e95f"
   },
   "outputs": [
    {
     "name": "stdout",
     "output_type": "stream",
     "text": [
      "              precision    recall  f1-score   support\n",
      "\n",
      "           0       0.99      0.98      0.99     40602\n",
      "           1       0.80      0.82      0.81      3011\n",
      "\n",
      "   micro avg       0.97      0.97      0.97     43613\n",
      "   macro avg       0.89      0.90      0.90     43613\n",
      "weighted avg       0.97      0.97      0.97     43613\n",
      " samples avg       0.97      0.97      0.97     43613\n",
      "\n"
     ]
    }
   ],
   "source": [
    "print(classification_report(y_test_cat, y_pred_bool))"
   ]
  },
  {
   "cell_type": "code",
   "execution_count": 17,
   "metadata": {
    "colab": {
     "base_uri": "https://localhost:8080/"
    },
    "id": "lykMLvTdr2KO",
    "outputId": "23af9674-1fe2-4b5c-c4f3-4043280f6c01"
   },
   "outputs": [
    {
     "data": {
      "text/plain": [
       "array([0.9020541, 0.9020541])"
      ]
     },
     "execution_count": 17,
     "metadata": {},
     "output_type": "execute_result"
    }
   ],
   "source": [
    "roc_auc_score(y_test_cat, y_pred_bool, average=None)"
   ]
  },
  {
   "cell_type": "code",
   "execution_count": 18,
   "metadata": {
    "colab": {
     "base_uri": "https://localhost:8080/",
     "height": 295
    },
    "id": "m1W1CctGr2KP",
    "outputId": "61570337-7c36-4253-81ff-663a684e5eeb"
   },
   "outputs": [
    {
     "data": {
      "image/png": "[encoded data removed]",
      "text/plain": [
       "<Figure size 432x288 with 1 Axes>"
      ]
     },
     "metadata": {
      "needs_background": "light"
     },
     "output_type": "display_data"
    }
   ],
   "source": [
    "plt.plot(history.history['loss'])\n",
    "plt.plot(history.history['val_loss'])\n",
    "plt.title('model loss')\n",
    "plt.ylabel('loss')\n",
    "plt.xlabel('epoch')\n",
    "plt.legend(['train', 'val'], loc='upper left')\n",
    "plt.show()"
   ]
  },
  {
   "cell_type": "code",
   "execution_count": 19,
   "metadata": {
    "colab": {
     "base_uri": "https://localhost:8080/",
     "height": 295
    },
    "id": "CYnO7MUIr2KR",
    "outputId": "4ae156ba-6a48-408a-bda9-4da246d3134f"
   },
   "outputs": [
    {
     "data": {
      "image/png": "[encoded data removed]",
      "text/plain": [
       "<Figure size 432x288 with 1 Axes>"
      ]
     },
     "metadata": {
      "needs_background": "light"
     },
     "output_type": "display_data"
    }
   ],
   "source": [
    "plt.plot(history.history['accuracy'])\n",
    "plt.plot(history.history['val_accuracy'])\n",
    "plt.title('model accuracy')\n",
    "plt.ylabel('accuracy')\n",
    "plt.xlabel('epoch')\n",
    "plt.legend(['train', 'val'], loc='upper left')\n",
    "plt.show()"
   ]
  },
  {
   "cell_type": "code",
   "execution_count": 25,
   "metadata": {},
   "outputs": [],
   "source": [
    "#Q1-2020 Data\n",
    "q1_2020 = pd.read_csv(\"test_2020_continent.csv\")"
   ]
  },
  {
   "cell_type": "code",
   "execution_count": 26,
   "metadata": {},
   "outputs": [
    {
     "data": {
      "text/html": [
       "<div>\n",
       "<style scoped>\n",
       "    .dataframe tbody tr th:only-of-type {\n",
       "        vertical-align: middle;\n",
       "    }\n",
       "\n",
       "    .dataframe tbody tr th {\n",
       "        vertical-align: top;\n",
       "    }\n",
       "\n",
       "    .dataframe thead th {\n",
       "        text-align: right;\n",
       "    }\n",
       "</style>\n",
       "<table border=\"1\" class=\"dataframe\">\n",
       "  <thead>\n",
       "    <tr style=\"text-align: right;\">\n",
       "      <th></th>\n",
       "      <th>LOAN_ID</th>\n",
       "      <th>LOAN_AMOUNT</th>\n",
       "      <th>STATUS</th>\n",
       "      <th>LENDER_TERM</th>\n",
       "      <th>NUM_LENDERS_TOTAL</th>\n",
       "      <th>NUM_JOURNAL_ENTRIES</th>\n",
       "      <th>BORROWER_PICTURED</th>\n",
       "      <th>POSTED_DATE</th>\n",
       "      <th>LEN_DESCRIPTION</th>\n",
       "      <th>LEN_TAGS</th>\n",
       "      <th>...</th>\n",
       "      <th>delinquency_rate</th>\n",
       "      <th>loans_at_risk_rate</th>\n",
       "      <th>default_rate</th>\n",
       "      <th>emo_score</th>\n",
       "      <th>Africa</th>\n",
       "      <th>Asia</th>\n",
       "      <th>North America</th>\n",
       "      <th>Europe</th>\n",
       "      <th>South America</th>\n",
       "      <th>Oceania</th>\n",
       "    </tr>\n",
       "  </thead>\n",
       "  <tbody>\n",
       "    <tr>\n",
       "      <th>0</th>\n",
       "      <td>1934382</td>\n",
       "      <td>375.0</td>\n",
       "      <td>0</td>\n",
       "      <td>13.0</td>\n",
       "      <td>0</td>\n",
       "      <td>1</td>\n",
       "      <td>0</td>\n",
       "      <td>2020-02-22</td>\n",
       "      <td>3</td>\n",
       "      <td>5</td>\n",
       "      <td>...</td>\n",
       "      <td>4.03</td>\n",
       "      <td>11.54</td>\n",
       "      <td>0.02</td>\n",
       "      <td>0.000</td>\n",
       "      <td>0</td>\n",
       "      <td>1</td>\n",
       "      <td>0</td>\n",
       "      <td>0</td>\n",
       "      <td>0</td>\n",
       "      <td>0</td>\n",
       "    </tr>\n",
       "    <tr>\n",
       "      <th>1</th>\n",
       "      <td>1913037</td>\n",
       "      <td>925.0</td>\n",
       "      <td>1</td>\n",
       "      <td>17.0</td>\n",
       "      <td>18</td>\n",
       "      <td>1</td>\n",
       "      <td>1</td>\n",
       "      <td>2020-01-16</td>\n",
       "      <td>684</td>\n",
       "      <td>3</td>\n",
       "      <td>...</td>\n",
       "      <td>15.94</td>\n",
       "      <td>39.02</td>\n",
       "      <td>8.41</td>\n",
       "      <td>0.891</td>\n",
       "      <td>0</td>\n",
       "      <td>0</td>\n",
       "      <td>0</td>\n",
       "      <td>0</td>\n",
       "      <td>1</td>\n",
       "      <td>0</td>\n",
       "    </tr>\n",
       "  </tbody>\n",
       "</table>\n",
       "<p>2 rows × 45 columns</p>\n",
       "</div>"
      ],
      "text/plain": [
       "   LOAN_ID  LOAN_AMOUNT  STATUS  LENDER_TERM  NUM_LENDERS_TOTAL  \\\n",
       "0  1934382        375.0       0         13.0                  0   \n",
       "1  1913037        925.0       1         17.0                 18   \n",
       "\n",
       "   NUM_JOURNAL_ENTRIES  BORROWER_PICTURED POSTED_DATE  LEN_DESCRIPTION  \\\n",
       "0                    1                  0  2020-02-22                3   \n",
       "1                    1                  1  2020-01-16              684   \n",
       "\n",
       "   LEN_TAGS  ...  delinquency_rate  loans_at_risk_rate  default_rate  \\\n",
       "0         5  ...              4.03               11.54          0.02   \n",
       "1         3  ...             15.94               39.02          8.41   \n",
       "\n",
       "   emo_score  Africa  Asia  North America  Europe  South America  Oceania  \n",
       "0      0.000       0     1              0       0              0        0  \n",
       "1      0.891       0     0              0       0              1        0  \n",
       "\n",
       "[2 rows x 45 columns]"
      ]
     },
     "execution_count": 26,
     "metadata": {},
     "output_type": "execute_result"
    }
   ],
   "source": [
    "q1_2020.head(2)"
   ]
  },
  {
   "cell_type": "code",
   "execution_count": 27,
   "metadata": {},
   "outputs": [],
   "source": [
    "q1_2020_drops = q1_2020.drop(columns=['LOAN_ID', 'POSTED_DATE'])"
   ]
  },
  {
   "cell_type": "code",
   "execution_count": 28,
   "metadata": {},
   "outputs": [
    {
     "data": {
      "text/html": [
       "<div>\n",
       "<style scoped>\n",
       "    .dataframe tbody tr th:only-of-type {\n",
       "        vertical-align: middle;\n",
       "    }\n",
       "\n",
       "    .dataframe tbody tr th {\n",
       "        vertical-align: top;\n",
       "    }\n",
       "\n",
       "    .dataframe thead th {\n",
       "        text-align: right;\n",
       "    }\n",
       "</style>\n",
       "<table border=\"1\" class=\"dataframe\">\n",
       "  <thead>\n",
       "    <tr style=\"text-align: right;\">\n",
       "      <th></th>\n",
       "      <th>LOAN_AMOUNT</th>\n",
       "      <th>STATUS</th>\n",
       "      <th>LENDER_TERM</th>\n",
       "      <th>NUM_LENDERS_TOTAL</th>\n",
       "      <th>NUM_JOURNAL_ENTRIES</th>\n",
       "      <th>BORROWER_PICTURED</th>\n",
       "      <th>LEN_DESCRIPTION</th>\n",
       "      <th>LEN_TAGS</th>\n",
       "      <th>Agriculture</th>\n",
       "      <th>Arts</th>\n",
       "      <th>...</th>\n",
       "      <th>delinquency_rate</th>\n",
       "      <th>loans_at_risk_rate</th>\n",
       "      <th>default_rate</th>\n",
       "      <th>emo_score</th>\n",
       "      <th>Africa</th>\n",
       "      <th>Asia</th>\n",
       "      <th>North America</th>\n",
       "      <th>Europe</th>\n",
       "      <th>South America</th>\n",
       "      <th>Oceania</th>\n",
       "    </tr>\n",
       "  </thead>\n",
       "  <tbody>\n",
       "    <tr>\n",
       "      <th>0</th>\n",
       "      <td>375.0</td>\n",
       "      <td>0</td>\n",
       "      <td>13.0</td>\n",
       "      <td>0</td>\n",
       "      <td>1</td>\n",
       "      <td>0</td>\n",
       "      <td>3</td>\n",
       "      <td>5</td>\n",
       "      <td>0</td>\n",
       "      <td>0</td>\n",
       "      <td>...</td>\n",
       "      <td>4.03</td>\n",
       "      <td>11.54</td>\n",
       "      <td>0.02</td>\n",
       "      <td>0.000</td>\n",
       "      <td>0</td>\n",
       "      <td>1</td>\n",
       "      <td>0</td>\n",
       "      <td>0</td>\n",
       "      <td>0</td>\n",
       "      <td>0</td>\n",
       "    </tr>\n",
       "    <tr>\n",
       "      <th>1</th>\n",
       "      <td>925.0</td>\n",
       "      <td>1</td>\n",
       "      <td>17.0</td>\n",
       "      <td>18</td>\n",
       "      <td>1</td>\n",
       "      <td>1</td>\n",
       "      <td>684</td>\n",
       "      <td>3</td>\n",
       "      <td>0</td>\n",
       "      <td>0</td>\n",
       "      <td>...</td>\n",
       "      <td>15.94</td>\n",
       "      <td>39.02</td>\n",
       "      <td>8.41</td>\n",
       "      <td>0.891</td>\n",
       "      <td>0</td>\n",
       "      <td>0</td>\n",
       "      <td>0</td>\n",
       "      <td>0</td>\n",
       "      <td>1</td>\n",
       "      <td>0</td>\n",
       "    </tr>\n",
       "  </tbody>\n",
       "</table>\n",
       "<p>2 rows × 43 columns</p>\n",
       "</div>"
      ],
      "text/plain": [
       "   LOAN_AMOUNT  STATUS  LENDER_TERM  NUM_LENDERS_TOTAL  NUM_JOURNAL_ENTRIES  \\\n",
       "0        375.0       0         13.0                  0                    1   \n",
       "1        925.0       1         17.0                 18                    1   \n",
       "\n",
       "   BORROWER_PICTURED  LEN_DESCRIPTION  LEN_TAGS  Agriculture  Arts  ...  \\\n",
       "0                  0                3         5            0     0  ...   \n",
       "1                  1              684         3            0     0  ...   \n",
       "\n",
       "   delinquency_rate  loans_at_risk_rate  default_rate  emo_score  Africa  \\\n",
       "0              4.03               11.54          0.02      0.000       0   \n",
       "1             15.94               39.02          8.41      0.891       0   \n",
       "\n",
       "   Asia  North America  Europe  South America  Oceania  \n",
       "0     1              0       0              0        0  \n",
       "1     0              0       0              1        0  \n",
       "\n",
       "[2 rows x 43 columns]"
      ]
     },
     "execution_count": 28,
     "metadata": {},
     "output_type": "execute_result"
    }
   ],
   "source": [
    "q1_2020_drops.head(2)"
   ]
  },
  {
   "cell_type": "code",
   "execution_count": 31,
   "metadata": {},
   "outputs": [],
   "source": [
    "y_test = q1_2020_drops['STATUS']\n",
    "X_test = q1_2020_drops.drop(columns=['STATUS'])"
   ]
  },
  {
   "cell_type": "code",
   "execution_count": 35,
   "metadata": {},
   "outputs": [],
   "source": [
    "X_test = sc.transform(X_test)"
   ]
  },
  {
   "cell_type": "code",
   "execution_count": 37,
   "metadata": {},
   "outputs": [
    {
     "data": {
      "text/plain": [
       "array([[1., 0.],\n",
       "       [0., 1.],\n",
       "       [1., 0.],\n",
       "       ...,\n",
       "       [1., 0.],\n",
       "       [1., 0.],\n",
       "       [1., 0.]], dtype=float32)"
      ]
     },
     "execution_count": 37,
     "metadata": {},
     "output_type": "execute_result"
    }
   ],
   "source": [
    "y_pred_bool"
   ]
  },
  {
   "cell_type": "code",
   "execution_count": 36,
   "metadata": {},
   "outputs": [
    {
     "name": "stdout",
     "output_type": "stream",
     "text": [
      "774/774 [==============================] - 2s 3ms/step\n",
      "              precision    recall  f1-score   support\n",
      "\n",
      "           0       1.00      0.98      0.99     49191\n",
      "           1       0.20      0.69      0.31       290\n",
      "\n",
      "   micro avg       0.98      0.98      0.98     49481\n",
      "   macro avg       0.60      0.84      0.65     49481\n",
      "weighted avg       0.99      0.98      0.99     49481\n",
      " samples avg       0.98      0.98      0.98     49481\n",
      "\n"
     ]
    }
   ],
   "source": [
    "y_test_cat = to_categorical(y_test)\n",
    "y_pred = model.test_on_batch(X_test, y_test_cat)\n",
    "\n",
    "y_pred = model.predict(X_test, batch_size=64, verbose=1)\n",
    "y_pred_bool = np.argmax(y_pred, axis=1)\n",
    "\n",
    "y_pred_bool = to_categorical(y_pred_bool)\n",
    "\n",
    "print(classification_report(y_test_cat, y_pred_bool))"
   ]
  },
  {
   "cell_type": "markdown",
   "metadata": {
    "id": "UCEjBahXu0r1"
   },
   "source": [
    "# Model Building (continent) - Under Sampling"
   ]
  },
  {
   "cell_type": "code",
   "execution_count": 128,
   "metadata": {
    "id": "5OI1WSemu0sF"
   },
   "outputs": [],
   "source": [
    "df_continent = pd.read_csv(\"df_continent_3.csv\")"
   ]
  },
  {
   "cell_type": "code",
   "execution_count": 129,
   "metadata": {
    "id": "RFT6J7rTu0sF"
   },
   "outputs": [],
   "source": [
    "df_continent.drop(columns=['POSTED_DATE'], inplace=True)"
   ]
  },
  {
   "cell_type": "code",
   "execution_count": 130,
   "metadata": {
    "id": "h2xRbKhYu0sF"
   },
   "outputs": [],
   "source": [
    "X = df_continent.drop(columns=['STATUS'])\n",
    "Y = df_continent['STATUS']"
   ]
  },
  {
   "cell_type": "code",
   "execution_count": 131,
   "metadata": {
    "id": "5zV42asYu0sF"
   },
   "outputs": [],
   "source": [
    "X_train, X_test, y_train, y_test = train_test_split(X, Y, stratify = Y, test_size = 0.2, random_state=7)"
   ]
  },
  {
   "cell_type": "code",
   "execution_count": 132,
   "metadata": {
    "id": "RUDWC8dZu0sG"
   },
   "outputs": [],
   "source": [
    "X_train, X_val, y_train, y_val = train_test_split(X_train, y_train, stratify = y_train, test_size=0.2, random_state=7)"
   ]
  },
  {
   "cell_type": "code",
   "execution_count": 133,
   "metadata": {
    "colab": {
     "base_uri": "https://localhost:8080/"
    },
    "id": "lFc5tQFhu0sG",
    "outputId": "d4ede840-ae34-4167-c34a-8ec6127de61d"
   },
   "outputs": [
    {
     "name": "stderr",
     "output_type": "stream",
     "text": [
      "/usr/local/lib/python3.7/dist-packages/sklearn/utils/deprecation.py:87: FutureWarning: Function safe_indexing is deprecated; safe_indexing is deprecated in version 0.22 and will be removed in version 0.24.\n",
      "  warnings.warn(msg, category=FutureWarning)\n"
     ]
    }
   ],
   "source": [
    "from imblearn.over_sampling import SMOTE, RandomOverSampler\n",
    "from imblearn.under_sampling import RandomUnderSampler\n",
    "undersample = RandomOverSampler()\n",
    "X_train, y_train = undersample.fit_resample(X_train, y_train)"
   ]
  },
  {
   "cell_type": "code",
   "execution_count": 134,
   "metadata": {
    "id": "VfIgMviHu0sG"
   },
   "outputs": [],
   "source": [
    "sc = StandardScaler()\n",
    "X_train = sc.fit_transform(X_train)\n",
    "X_test = sc.transform(X_test)\n",
    "X_val = sc.transform(X_val)"
   ]
  },
  {
   "cell_type": "code",
   "execution_count": 135,
   "metadata": {
    "id": "4ODUbUXxu0sH"
   },
   "outputs": [],
   "source": [
    "y_train = to_categorical(y_train)\n",
    "y_val = to_categorical(y_val)"
   ]
  },
  {
   "cell_type": "code",
   "execution_count": 137,
   "metadata": {
    "id": "RynZVUrau0sH"
   },
   "outputs": [],
   "source": [
    "from tensorflow.keras import Sequential, Input\n",
    "from tensorflow.keras.layers import Dense, Dropout\n",
    "\n",
    "input_nodes = X_train.shape[1]\n",
    "output_nodes = 2\n",
    "\n",
    "model = Sequential()\n",
    "model.add(Input((input_nodes,)))\n",
    "model.add(Dense(512, activation=\"relu\"))\n",
    "model.add(Dropout(0.5))\n",
    "model.add(Dense(256, activation=\"relu\"))\n",
    "model.add(Dropout(0.5))\n",
    "model.add(Dense(128, activation=\"relu\"))\n",
    "model.add(Dropout(0.5))\n",
    "model.add(Dense(64, activation=\"relu\"))\n",
    "model.add(Dense(output_nodes, activation=\"softmax\"))\n",
    "\n",
    "optimizer = keras.optimizers.Adam(lr=0.0001)\n",
    "\n",
    "model.compile(optimizer=optimizer,loss='categorical_crossentropy',metrics=['accuracy'])\n",
    "validate=True"
   ]
  },
  {
   "cell_type": "code",
   "execution_count": 138,
   "metadata": {
    "colab": {
     "base_uri": "https://localhost:8080/"
    },
    "id": "nB-lJ6Zzu0sI",
    "outputId": "04b7fd27-fad3-4269-de26-578243fd8fe1"
   },
   "outputs": [
    {
     "name": "stdout",
     "output_type": "stream",
     "text": [
      "Model: \"sequential_5\"\n",
      "_________________________________________________________________\n",
      "Layer (type)                 Output Shape              Param #   \n",
      "=================================================================\n",
      "dense_25 (Dense)             (None, 512)               22016     \n",
      "_________________________________________________________________\n",
      "dropout_10 (Dropout)         (None, 512)               0         \n",
      "_________________________________________________________________\n",
      "dense_26 (Dense)             (None, 256)               131328    \n",
      "_________________________________________________________________\n",
      "dropout_11 (Dropout)         (None, 256)               0         \n",
      "_________________________________________________________________\n",
      "dense_27 (Dense)             (None, 128)               32896     \n",
      "_________________________________________________________________\n",
      "dropout_12 (Dropout)         (None, 128)               0         \n",
      "_________________________________________________________________\n",
      "dense_28 (Dense)             (None, 64)                8256      \n",
      "_________________________________________________________________\n",
      "dense_29 (Dense)             (None, 2)                 130       \n",
      "=================================================================\n",
      "Total params: 194,626\n",
      "Trainable params: 194,626\n",
      "Non-trainable params: 0\n",
      "_________________________________________________________________\n"
     ]
    }
   ],
   "source": [
    "model.summary()"
   ]
  },
  {
   "cell_type": "code",
   "execution_count": 139,
   "metadata": {
    "colab": {
     "base_uri": "https://localhost:8080/"
    },
    "id": "zU-PUVj1u0sI",
    "outputId": "8073d82a-3b8f-461f-8ba1-7b5ac69d0c9e"
   },
   "outputs": [
    {
     "name": "stdout",
     "output_type": "stream",
     "text": [
      "Epoch 1/50\n",
      "2031/2031 [==============================] - 19s 9ms/step - loss: 0.5038 - accuracy: 0.7369 - val_loss: 0.2713 - val_accuracy: 0.8747\n",
      "Epoch 2/50\n",
      "2031/2031 [==============================] - 18s 9ms/step - loss: 0.2654 - accuracy: 0.8925 - val_loss: 0.2201 - val_accuracy: 0.9079\n",
      "Epoch 3/50\n",
      "2031/2031 [==============================] - 19s 9ms/step - loss: 0.2133 - accuracy: 0.9162 - val_loss: 0.1839 - val_accuracy: 0.9249\n",
      "Epoch 4/50\n",
      "2031/2031 [==============================] - 19s 9ms/step - loss: 0.1838 - accuracy: 0.9287 - val_loss: 0.1716 - val_accuracy: 0.9295\n",
      "Epoch 5/50\n",
      "2031/2031 [==============================] - 19s 9ms/step - loss: 0.1699 - accuracy: 0.9358 - val_loss: 0.1618 - val_accuracy: 0.9344\n",
      "Epoch 6/50\n",
      "2031/2031 [==============================] - 19s 9ms/step - loss: 0.1609 - accuracy: 0.9390 - val_loss: 0.1721 - val_accuracy: 0.9325\n",
      "Epoch 7/50\n",
      "2031/2031 [==============================] - 19s 9ms/step - loss: 0.1526 - accuracy: 0.9424 - val_loss: 0.1688 - val_accuracy: 0.9332\n",
      "Epoch 8/50\n",
      "2031/2031 [==============================] - 18s 9ms/step - loss: 0.1465 - accuracy: 0.9454 - val_loss: 0.1576 - val_accuracy: 0.9377\n",
      "Epoch 9/50\n",
      "2031/2031 [==============================] - 18s 9ms/step - loss: 0.1437 - accuracy: 0.9465 - val_loss: 0.1596 - val_accuracy: 0.9372\n",
      "Epoch 10/50\n",
      "2031/2031 [==============================] - 18s 9ms/step - loss: 0.1378 - accuracy: 0.9480 - val_loss: 0.1550 - val_accuracy: 0.9368\n",
      "Epoch 11/50\n",
      "2031/2031 [==============================] - 18s 9ms/step - loss: 0.1357 - accuracy: 0.9497 - val_loss: 0.1636 - val_accuracy: 0.9349\n",
      "Epoch 12/50\n",
      "2031/2031 [==============================] - 18s 9ms/step - loss: 0.1324 - accuracy: 0.9508 - val_loss: 0.1528 - val_accuracy: 0.9377\n",
      "Epoch 13/50\n",
      "2031/2031 [==============================] - 18s 9ms/step - loss: 0.1308 - accuracy: 0.9518 - val_loss: 0.1606 - val_accuracy: 0.9349\n",
      "Epoch 14/50\n",
      "2031/2031 [==============================] - 18s 9ms/step - loss: 0.1292 - accuracy: 0.9519 - val_loss: 0.1480 - val_accuracy: 0.9392\n",
      "Epoch 15/50\n",
      "2031/2031 [==============================] - 18s 9ms/step - loss: 0.1262 - accuracy: 0.9534 - val_loss: 0.1457 - val_accuracy: 0.9394\n",
      "Epoch 16/50\n",
      "2031/2031 [==============================] - 18s 9ms/step - loss: 0.1245 - accuracy: 0.9539 - val_loss: 0.1587 - val_accuracy: 0.9354\n",
      "Epoch 17/50\n",
      "2031/2031 [==============================] - 18s 9ms/step - loss: 0.1241 - accuracy: 0.9545 - val_loss: 0.1460 - val_accuracy: 0.9401\n",
      "Epoch 18/50\n",
      "2031/2031 [==============================] - 19s 9ms/step - loss: 0.1208 - accuracy: 0.9546 - val_loss: 0.1436 - val_accuracy: 0.9386\n",
      "Epoch 19/50\n",
      "2031/2031 [==============================] - 18s 9ms/step - loss: 0.1198 - accuracy: 0.9559 - val_loss: 0.1491 - val_accuracy: 0.9381\n",
      "Epoch 20/50\n",
      "2031/2031 [==============================] - 18s 9ms/step - loss: 0.1193 - accuracy: 0.9561 - val_loss: 0.1485 - val_accuracy: 0.9367\n",
      "Epoch 21/50\n",
      "2031/2031 [==============================] - 19s 9ms/step - loss: 0.1182 - accuracy: 0.9560 - val_loss: 0.1468 - val_accuracy: 0.9380\n",
      "Epoch 22/50\n",
      "2031/2031 [==============================] - 18s 9ms/step - loss: 0.1155 - accuracy: 0.9575 - val_loss: 0.1425 - val_accuracy: 0.9385\n",
      "Epoch 23/50\n",
      "2031/2031 [==============================] - 19s 9ms/step - loss: 0.1125 - accuracy: 0.9584 - val_loss: 0.1438 - val_accuracy: 0.9375\n",
      "Epoch 24/50\n",
      "2031/2031 [==============================] - 18s 9ms/step - loss: 0.1138 - accuracy: 0.9585 - val_loss: 0.1447 - val_accuracy: 0.9383\n",
      "Epoch 25/50\n",
      "2031/2031 [==============================] - 19s 9ms/step - loss: 0.1142 - accuracy: 0.9584 - val_loss: 0.1463 - val_accuracy: 0.9383\n",
      "Epoch 26/50\n",
      "2031/2031 [==============================] - 19s 9ms/step - loss: 0.1111 - accuracy: 0.9595 - val_loss: 0.1411 - val_accuracy: 0.9395\n",
      "Epoch 27/50\n",
      "2031/2031 [==============================] - 19s 9ms/step - loss: 0.1108 - accuracy: 0.9593 - val_loss: 0.1406 - val_accuracy: 0.9393\n",
      "Epoch 28/50\n",
      "2031/2031 [==============================] - 19s 9ms/step - loss: 0.1096 - accuracy: 0.9601 - val_loss: 0.1463 - val_accuracy: 0.9376\n",
      "Epoch 29/50\n",
      "2031/2031 [==============================] - 19s 9ms/step - loss: 0.1079 - accuracy: 0.9606 - val_loss: 0.1401 - val_accuracy: 0.9402\n",
      "Epoch 30/50\n",
      "2031/2031 [==============================] - 19s 9ms/step - loss: 0.1083 - accuracy: 0.9610 - val_loss: 0.1398 - val_accuracy: 0.9394\n",
      "Epoch 31/50\n",
      "2031/2031 [==============================] - 19s 9ms/step - loss: 0.1077 - accuracy: 0.9608 - val_loss: 0.1420 - val_accuracy: 0.9406\n",
      "Epoch 32/50\n",
      "2031/2031 [==============================] - 19s 9ms/step - loss: 0.1051 - accuracy: 0.9624 - val_loss: 0.1397 - val_accuracy: 0.9394\n",
      "Epoch 33/50\n",
      "2031/2031 [==============================] - 18s 9ms/step - loss: 0.1084 - accuracy: 0.9604 - val_loss: 0.1354 - val_accuracy: 0.9432\n",
      "Epoch 34/50\n",
      "2031/2031 [==============================] - 18s 9ms/step - loss: 0.1058 - accuracy: 0.9622 - val_loss: 0.1338 - val_accuracy: 0.9431\n",
      "Epoch 35/50\n",
      "2031/2031 [==============================] - 18s 9ms/step - loss: 0.1050 - accuracy: 0.9620 - val_loss: 0.1387 - val_accuracy: 0.9409\n",
      "Epoch 36/50\n",
      "2031/2031 [==============================] - 18s 9ms/step - loss: 0.1024 - accuracy: 0.9640 - val_loss: 0.1316 - val_accuracy: 0.9435\n",
      "Epoch 37/50\n",
      "2031/2031 [==============================] - 19s 9ms/step - loss: 0.1031 - accuracy: 0.9630 - val_loss: 0.1375 - val_accuracy: 0.9412\n",
      "Epoch 38/50\n",
      "2031/2031 [==============================] - 19s 9ms/step - loss: 0.0999 - accuracy: 0.9646 - val_loss: 0.1313 - val_accuracy: 0.9439\n",
      "Epoch 39/50\n",
      "2031/2031 [==============================] - 19s 9ms/step - loss: 0.1012 - accuracy: 0.9639 - val_loss: 0.1362 - val_accuracy: 0.9424\n",
      "Epoch 40/50\n",
      "2031/2031 [==============================] - 19s 9ms/step - loss: 0.1007 - accuracy: 0.9642 - val_loss: 0.1312 - val_accuracy: 0.9445\n",
      "Epoch 41/50\n",
      "2031/2031 [==============================] - 19s 9ms/step - loss: 0.0979 - accuracy: 0.9651 - val_loss: 0.1321 - val_accuracy: 0.9443\n",
      "Epoch 42/50\n",
      "2031/2031 [==============================] - 19s 9ms/step - loss: 0.0985 - accuracy: 0.9651 - val_loss: 0.1310 - val_accuracy: 0.9444\n",
      "Epoch 43/50\n",
      "2031/2031 [==============================] - 19s 9ms/step - loss: 0.0987 - accuracy: 0.9653 - val_loss: 0.1306 - val_accuracy: 0.9445\n",
      "Epoch 44/50\n",
      "2031/2031 [==============================] - 19s 9ms/step - loss: 0.0972 - accuracy: 0.9660 - val_loss: 0.1279 - val_accuracy: 0.9471\n",
      "Epoch 45/50\n",
      "2031/2031 [==============================] - 19s 9ms/step - loss: 0.0978 - accuracy: 0.9655 - val_loss: 0.1317 - val_accuracy: 0.9440\n",
      "Epoch 46/50\n",
      "2031/2031 [==============================] - 19s 9ms/step - loss: 0.0957 - accuracy: 0.9668 - val_loss: 0.1252 - val_accuracy: 0.9475\n",
      "Epoch 47/50\n",
      "2031/2031 [==============================] - 19s 9ms/step - loss: 0.0965 - accuracy: 0.9662 - val_loss: 0.1344 - val_accuracy: 0.9458\n",
      "Epoch 48/50\n",
      "2031/2031 [==============================] - 19s 9ms/step - loss: 0.0961 - accuracy: 0.9663 - val_loss: 0.1315 - val_accuracy: 0.9445\n",
      "Epoch 49/50\n",
      "2031/2031 [==============================] - 19s 9ms/step - loss: 0.0951 - accuracy: 0.9668 - val_loss: 0.1275 - val_accuracy: 0.9471\n",
      "Epoch 50/50\n",
      "2031/2031 [==============================] - 19s 9ms/step - loss: 0.0957 - accuracy: 0.9667 - val_loss: 0.1315 - val_accuracy: 0.9457\n"
     ]
    }
   ],
   "source": [
    "history = model.fit(X_train,\n",
    "        y_train,\n",
    "        batch_size=128,\n",
    "        epochs=50,\n",
    "        validation_data=(X_val, y_val) if validate else None,\n",
    "        verbose=1)"
   ]
  },
  {
   "cell_type": "code",
   "execution_count": 140,
   "metadata": {
    "id": "WmjwX65Hu0sI"
   },
   "outputs": [],
   "source": [
    "y_test_cat = to_categorical(y_test)\n",
    "y_pred = model.test_on_batch(X_test, y_test_cat)"
   ]
  },
  {
   "cell_type": "code",
   "execution_count": 141,
   "metadata": {
    "colab": {
     "base_uri": "https://localhost:8080/"
    },
    "id": "VCFIAms4u0sI",
    "outputId": "3de94d5c-f6c6-4c91-ec3c-e6603e0e9e50"
   },
   "outputs": [
    {
     "name": "stdout",
     "output_type": "stream",
     "text": [
      "682/682 [==============================] - 1s 2ms/step\n"
     ]
    }
   ],
   "source": [
    "from sklearn.metrics import classification_report\n",
    "\n",
    "y_pred = model.predict(X_test, batch_size=64, verbose=1)\n",
    "y_pred_bool = np.argmax(y_pred, axis=1)"
   ]
  },
  {
   "cell_type": "code",
   "execution_count": 142,
   "metadata": {
    "id": "qyBi07m4u0sJ"
   },
   "outputs": [],
   "source": [
    "y_pred_bool = to_categorical(y_pred_bool)"
   ]
  },
  {
   "cell_type": "code",
   "execution_count": 143,
   "metadata": {
    "colab": {
     "base_uri": "https://localhost:8080/"
    },
    "id": "0C4QqX7su0sJ",
    "outputId": "fa028c9e-9323-46b4-c397-c00f7c314a2d"
   },
   "outputs": [
    {
     "name": "stdout",
     "output_type": "stream",
     "text": [
      "              precision    recall  f1-score   support\n",
      "\n",
      "           0       1.00      0.95      0.97     40602\n",
      "           1       0.57      0.95      0.71      3011\n",
      "\n",
      "   micro avg       0.95      0.95      0.95     43613\n",
      "   macro avg       0.78      0.95      0.84     43613\n",
      "weighted avg       0.97      0.95      0.95     43613\n",
      " samples avg       0.95      0.95      0.95     43613\n",
      "\n"
     ]
    }
   ],
   "source": [
    "print(classification_report(y_test_cat, y_pred_bool))"
   ]
  },
  {
   "cell_type": "code",
   "execution_count": 144,
   "metadata": {
    "colab": {
     "base_uri": "https://localhost:8080/"
    },
    "id": "3olYqoD4u0sJ",
    "outputId": "7b5f4ed4-8563-4095-bab5-58b74e3e8fad"
   },
   "outputs": [
    {
     "data": {
      "text/plain": [
       "array([0.94975182, 0.94975182])"
      ]
     },
     "execution_count": 144,
     "metadata": {
      "tags": []
     },
     "output_type": "execute_result"
    }
   ],
   "source": [
    "from sklearn.metrics import roc_auc_score\n",
    "roc_auc_score(y_test_cat, y_pred_bool, average=None)"
   ]
  },
  {
   "cell_type": "code",
   "execution_count": 145,
   "metadata": {
    "colab": {
     "base_uri": "https://localhost:8080/",
     "height": 295
    },
    "id": "q7iyZpf5u0sK",
    "outputId": "2596d1fe-1670-49b6-8722-5414dd555ca9"
   },
   "outputs": [
    {
     "data": {
      "image/png": "[encoded data removed]",
      "text/plain": [
       "<Figure size 432x288 with 1 Axes>"
      ]
     },
     "metadata": {
      "needs_background": "light",
      "tags": []
     },
     "output_type": "display_data"
    }
   ],
   "source": [
    "plt.plot(history.history['loss'])\n",
    "plt.plot(history.history['val_loss'])\n",
    "plt.title('model loss')\n",
    "plt.ylabel('loss')\n",
    "plt.xlabel('epoch')\n",
    "plt.legend(['train', 'val'], loc='upper left')\n",
    "plt.show()"
   ]
  },
  {
   "cell_type": "code",
   "execution_count": 146,
   "metadata": {
    "colab": {
     "base_uri": "https://localhost:8080/",
     "height": 295
    },
    "id": "52vQyHtuu0sK",
    "outputId": "617d02a1-a2a1-494d-d3df-2d6c02e1f2c1"
   },
   "outputs": [
    {
     "data": {
      "image/png": "[encoded data removed]",
      "text/plain": [
       "<Figure size 432x288 with 1 Axes>"
      ]
     },
     "metadata": {
      "needs_background": "light",
      "tags": []
     },
     "output_type": "display_data"
    }
   ],
   "source": [
    "plt.plot(history.history['accuracy'])\n",
    "plt.plot(history.history['val_accuracy'])\n",
    "plt.title('model accuracy')\n",
    "plt.ylabel('accuracy')\n",
    "plt.xlabel('epoch')\n",
    "plt.legend(['train', 'val'], loc='upper left')\n",
    "plt.show()"
   ]
  }
 ],
 "metadata": {
  "colab": {
   "collapsed_sections": [
    "V8DN-1awsNTW",
    "jllYpijq4e-S",
    "RBHplSbX8sIY",
    "wAvyKG9l8sIp"
   ],
   "name": "Kiva.ipynb",
   "provenance": []
  },
  "kernelspec": {
   "display_name": "Python 3",
   "language": "python",
   "name": "python3"
  },
  "language_info": {
   "codemirror_mode": {
    "name": "ipython",
    "version": 3
   },
   "file_extension": ".py",
   "mimetype": "text/x-python",
   "name": "python",
   "nbconvert_exporter": "python",
   "pygments_lexer": "ipython3",
   "version": "3.8.3"
  }
 },
 "nbformat": 4,
 "nbformat_minor": 1
}
